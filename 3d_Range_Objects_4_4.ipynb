{
  "cells": [
    {
      "cell_type": "markdown",
      "metadata": {
        "id": "view-in-github",
        "colab_type": "text"
      },
      "source": [
        "<a href=\"https://colab.research.google.com/github/jcent-png/delete/blob/main/3d_Range_Objects_4_4.ipynb\" target=\"_parent\"><img src=\"https://colab.research.google.com/assets/colab-badge.svg\" alt=\"Open In Colab\"/></a>"
      ]
    },
    {
      "cell_type": "markdown",
      "id": "945c9b8f",
      "metadata": {
        "id": "945c9b8f"
      },
      "source": [
        "# Python Sequences:  Range Objects"
      ]
    },
    {
      "cell_type": "markdown",
      "id": "633f54f6",
      "metadata": {
        "id": "633f54f6"
      },
      "source": [
        "### Range Objects\n",
        "\n",
        "#### The `range()` function returns a sequence of numbers, starting from 0 by default, and increments by 1 (by default), and stops before a specified number.\n",
        "\n",
        "**Range objects are typically used in looping operations.**\n",
        "\n",
        "The `range()` syntax is:  range(start, stop, step). The `start` and `step` parameters are optional. If not specified, `start` will be 0 and `step` will be 1.\n",
        "\n",
        "#### Range object documentation links:  https://docs.python.org/3/library/stdtypes.html#ranges\n",
        "\n",
        "https://docs.python.org/3/library/functions.html#func-range\n",
        "\n"
      ]
    },
    {
      "cell_type": "code",
      "source": [
        "latin_text = \"\"\"\n",
        "Sed ut perspiciatis, unde omnis iste natus error sit\n",
        "voluptatem accusantium doloremque laudantium, totam\n",
        "rem aperiam eaque ipsa, quae ab illo inventore\n",
        "veritatis et quasi architecto beatae vitae dicta\n",
        "\"\"\"\n",
        "\n",
        "\n",
        "print(\"First 100 characters:\\n  {} ...\".format(latin_text[:100]))"
      ],
      "metadata": {
        "colab": {
          "base_uri": "https://localhost:8080/"
        },
        "id": "yhwBUudolKSx",
        "outputId": "4346ce15-8d90-49e5-a73b-973bf00a868c"
      },
      "id": "yhwBUudolKSx",
      "execution_count": null,
      "outputs": [
        {
          "output_type": "stream",
          "name": "stdout",
          "text": [
            "First 100 characters:\n",
            "  \n",
            "Sed ut perspiciatis, unde omnis iste natus error sit\n",
            "voluptatem accusantium doloremque laudantium,  ...\n"
          ]
        }
      ]
    },
    {
      "cell_type": "code",
      "source": [
        "demo_s_ex1 = latin_text[0:100]\n",
        "print(demo_s_ex1)"
      ],
      "metadata": {
        "colab": {
          "base_uri": "https://localhost:8080/"
        },
        "id": "RaGqYLvtlUXN",
        "outputId": "e2ca7453-276f-47e6-e5f9-e4bbcfb2d341"
      },
      "id": "RaGqYLvtlUXN",
      "execution_count": null,
      "outputs": [
        {
          "output_type": "stream",
          "name": "stdout",
          "text": [
            "\n",
            "Sed ut perspiciatis, unde omnis iste natus error sit\n",
            "voluptatem accusantium doloremque laudantium, \n"
          ]
        }
      ]
    },
    {
      "cell_type": "code",
      "source": [
        "def normalize_string(s):\n",
        "  return s.lower()\n",
        "\n",
        "normalize_string(latin_text)"
      ],
      "metadata": {
        "colab": {
          "base_uri": "https://localhost:8080/",
          "height": 35
        },
        "id": "024y7_Lglk6W",
        "outputId": "3e37556b-c94f-4372-b993-58c6d9440e14"
      },
      "id": "024y7_Lglk6W",
      "execution_count": null,
      "outputs": [
        {
          "output_type": "execute_result",
          "data": {
            "text/plain": [
              "'\\nsed ut perspiciatis, unde omnis iste natus error sit\\nvoluptatem accusantium doloremque laudantium, totam\\nrem aperiam eaque ipsa, quae ab illo inventore\\nveritatis et quasi architecto beatae vitae dicta\\n'"
            ],
            "application/vnd.google.colaboratory.intrinsic+json": {
              "type": "string"
            }
          },
          "metadata": {},
          "execution_count": 6
        }
      ]
    },
    {
      "cell_type": "code",
      "execution_count": null,
      "id": "289bab01",
      "metadata": {
        "id": "289bab01",
        "colab": {
          "base_uri": "https://localhost:8080/",
          "height": 34
        },
        "outputId": "c292e0a9-dc7b-4b0b-894c-b66562b46ef4"
      },
      "outputs": [
        {
          "output_type": "display_data",
          "data": {
            "text/plain": [
              "range(0, 5)"
            ]
          },
          "metadata": {}
        }
      ],
      "source": [
        "range_1 = range(5)\n",
        "display(range_1)"
      ]
    },
    {
      "cell_type": "code",
      "execution_count": null,
      "id": "6937b81d",
      "metadata": {
        "id": "6937b81d",
        "colab": {
          "base_uri": "https://localhost:8080/"
        },
        "outputId": "9ea61bd0-123d-4bb7-8657-35a7e96a5485"
      },
      "outputs": [
        {
          "output_type": "stream",
          "name": "stdout",
          "text": [
            "0\n",
            "1\n",
            "2\n",
            "3\n",
            "4\n"
          ]
        }
      ],
      "source": [
        "for number in range_1:\n",
        "    print(number)"
      ]
    },
    {
      "cell_type": "code",
      "execution_count": null,
      "id": "cd3f6e6d",
      "metadata": {
        "id": "cd3f6e6d",
        "colab": {
          "base_uri": "https://localhost:8080/",
          "height": 34
        },
        "outputId": "8a6363ef-41d0-4b7b-b4e6-76f8c204cf3f"
      },
      "outputs": [
        {
          "output_type": "display_data",
          "data": {
            "text/plain": [
              "range(0, 10, 2)"
            ]
          },
          "metadata": {}
        }
      ],
      "source": [
        "range_2 = range(0,10,2)\n",
        "display(range_2)"
      ]
    },
    {
      "cell_type": "code",
      "execution_count": null,
      "id": "84a2bf90",
      "metadata": {
        "id": "84a2bf90",
        "colab": {
          "base_uri": "https://localhost:8080/"
        },
        "outputId": "a286a951-e1c8-49d7-cd6e-ffd55f5c885e"
      },
      "outputs": [
        {
          "output_type": "stream",
          "name": "stdout",
          "text": [
            "0\n",
            "2\n",
            "4\n",
            "6\n",
            "8\n"
          ]
        }
      ],
      "source": [
        "for number in range_2:\n",
        "    print(number)"
      ]
    },
    {
      "cell_type": "markdown",
      "id": "2d4e31a8",
      "metadata": {
        "id": "2d4e31a8"
      },
      "source": [
        "## Ranges are useful for looping over iterable objects. And this is how you will generally use range objects in this class"
      ]
    },
    {
      "cell_type": "markdown",
      "id": "fab50a4c",
      "metadata": {
        "id": "fab50a4c"
      },
      "source": [
        "### Iterating over a sequence (list in this case) by index, using a `for` loop"
      ]
    },
    {
      "cell_type": "code",
      "execution_count": null,
      "id": "3c5b92d9",
      "metadata": {
        "id": "3c5b92d9",
        "colab": {
          "base_uri": "https://localhost:8080/"
        },
        "outputId": "b82861dd-da43-4565-e922-0a2699743e0b"
      },
      "outputs": [
        {
          "output_type": "stream",
          "name": "stdout",
          "text": [
            "0\n",
            "1\n",
            "2\n"
          ]
        }
      ],
      "source": [
        "course_list = ['msa' , 'cse' , '6040']\n",
        "\n",
        "# output the index number\n",
        "for index in range(len(course_list)):\n",
        "    print(index)"
      ]
    },
    {
      "cell_type": "code",
      "execution_count": null,
      "id": "b7d80549",
      "metadata": {
        "id": "b7d80549",
        "colab": {
          "base_uri": "https://localhost:8080/"
        },
        "outputId": "13d86138-a54b-4d70-8800-c864a04205a5"
      },
      "outputs": [
        {
          "output_type": "stream",
          "name": "stdout",
          "text": [
            "0\n",
            "1\n",
            "2\n",
            "msa\n",
            "cse\n",
            "6040\n"
          ]
        }
      ],
      "source": [
        "course_list = ['msa' , 'cse' , '6040']\n",
        "# output the index number\n",
        "for index in range(len(course_list)):\n",
        "    print(index) # Output 0 1 2\n",
        "\n",
        "# output the value at the index\n",
        "for index in range(len(course_list)):\n",
        "    print(course_list[index]) # Output msa cse 6040"
      ]
    },
    {
      "cell_type": "code",
      "execution_count": null,
      "id": "c2711ae2",
      "metadata": {
        "id": "c2711ae2",
        "colab": {
          "base_uri": "https://localhost:8080/",
          "height": 34
        },
        "outputId": "6b39d59d-215e-4716-b846-338bbfa3a2a3"
      },
      "outputs": [
        {
          "output_type": "display_data",
          "data": {
            "text/plain": [
              "[0, 1, 2, 3, 4, 5, 6, 7, 8, 9]"
            ]
          },
          "metadata": {}
        }
      ],
      "source": [
        "# add elements to the list\n",
        "range_list = []\n",
        "\n",
        "for x in range(10):\n",
        "    range_list.append(x)\n",
        "\n",
        "display(range_list)"
      ]
    },
    {
      "cell_type": "markdown",
      "id": "0009dcbc",
      "metadata": {
        "id": "0009dcbc"
      },
      "source": [
        "### Iterating over a sequence (tuple in this case) by index, using a `for` loop"
      ]
    },
    {
      "cell_type": "code",
      "execution_count": null,
      "id": "c7a85e77",
      "metadata": {
        "id": "c7a85e77",
        "colab": {
          "base_uri": "https://localhost:8080/",
          "height": 34
        },
        "outputId": "90e4ad24-dfac-4274-c0f9-3b80580bb87b"
      },
      "outputs": [
        {
          "output_type": "display_data",
          "data": {
            "text/plain": [
              "5"
            ]
          },
          "metadata": {}
        }
      ],
      "source": [
        "# what is the length of the tuple?\n",
        "tpl_example = (1,2,3,4,5)\n",
        "display(len(tpl_example))"
      ]
    },
    {
      "cell_type": "code",
      "execution_count": null,
      "id": "0b57dd72",
      "metadata": {
        "id": "0b57dd72",
        "colab": {
          "base_uri": "https://localhost:8080/"
        },
        "outputId": "c0123829-0d9b-4bb1-b1f1-bd4208c5d033"
      },
      "outputs": [
        {
          "output_type": "stream",
          "name": "stdout",
          "text": [
            "0\n",
            "1\n",
            "\n",
            "\n",
            "1\n",
            "2\n",
            "\n",
            "\n",
            "2\n",
            "3\n",
            "\n",
            "\n",
            "3\n",
            "4\n",
            "\n",
            "\n",
            "4\n",
            "5\n",
            "\n",
            "\n"
          ]
        }
      ],
      "source": [
        "# loop over the items in the tuple using a range object\n",
        "tpl_example = (1,2,3,4,5)\n",
        "\n",
        "for item in range(len(tpl_example)):\n",
        "# so the line of code is equivalent to this one\n",
        "# for item in range(6):\n",
        "    print(item)\n",
        "    print(tpl_example[item])\n",
        "    print('\\n')"
      ]
    },
    {
      "cell_type": "markdown",
      "id": "53b64314",
      "metadata": {
        "id": "53b64314"
      },
      "source": [
        "### A quick look at nested loops, using a range() object."
      ]
    },
    {
      "cell_type": "code",
      "execution_count": null,
      "id": "c8f54712",
      "metadata": {
        "id": "c8f54712",
        "colab": {
          "base_uri": "https://localhost:8080/"
        },
        "outputId": "5ff1a538-a039-4fd5-b4ff-505f75ee28df"
      },
      "outputs": [
        {
          "output_type": "stream",
          "name": "stdout",
          "text": [
            "(0, 0)\n",
            "(0, 1)\n",
            "(0, 2)\n",
            "(0, 3)\n",
            "(1, 0)\n",
            "(1, 1)\n",
            "(1, 2)\n",
            "(1, 3)\n",
            "(2, 0)\n",
            "(2, 1)\n",
            "(2, 2)\n",
            "(2, 3)\n",
            "(3, 0)\n",
            "(3, 1)\n",
            "(3, 2)\n",
            "(3, 3)\n"
          ]
        }
      ],
      "source": [
        "for i in range(4):\n",
        "    for j in range(4):\n",
        "        print((i, j))"
      ]
    },
    {
      "cell_type": "markdown",
      "id": "3730f2e0",
      "metadata": {
        "id": "3730f2e0"
      },
      "source": [
        "#### Recall in the last notebook, we mentioned the `break` keywork in nested loops.\n",
        "\n",
        "#### Note that the `break` keyword only terminates the innermost for loop, if the loop running is an interior loop in a series of nested loops.\n",
        "\n",
        "#### Outer for loops in the nested loop structure will continue to run."
      ]
    },
    {
      "cell_type": "code",
      "execution_count": null,
      "id": "35438eb1",
      "metadata": {
        "id": "35438eb1",
        "colab": {
          "base_uri": "https://localhost:8080/"
        },
        "outputId": "213df6ab-724f-4e46-d66a-668fedf4bc9a"
      },
      "outputs": [
        {
          "output_type": "stream",
          "name": "stdout",
          "text": [
            "(0, 0)\n",
            "(1, 0)\n",
            "(1, 1)\n",
            "(2, 0)\n",
            "(2, 1)\n",
            "(2, 2)\n",
            "(3, 0)\n",
            "(3, 1)\n",
            "(3, 2)\n",
            "(3, 3)\n"
          ]
        }
      ],
      "source": [
        "# what is happening here?\n",
        "for i in range(4):\n",
        "    for j in range(4):\n",
        "        if j > i:\n",
        "            break\n",
        "        print((i, j))"
      ]
    },
    {
      "cell_type": "markdown",
      "id": "45cbd8c3",
      "metadata": {
        "id": "45cbd8c3"
      },
      "source": [
        "### What are your questions on range objects?"
      ]
    }
  ],
  "metadata": {
    "colab": {
      "provenance": [],
      "include_colab_link": true
    },
    "kernelspec": {
      "display_name": "Python 3 (ipykernel)",
      "language": "python",
      "name": "python3"
    },
    "language_info": {
      "codemirror_mode": {
        "name": "ipython",
        "version": 3
      },
      "file_extension": ".py",
      "mimetype": "text/x-python",
      "name": "python",
      "nbconvert_exporter": "python",
      "pygments_lexer": "ipython3",
      "version": "3.9.13"
    }
  },
  "nbformat": 4,
  "nbformat_minor": 5
}