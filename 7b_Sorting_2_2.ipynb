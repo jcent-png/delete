{
  "cells": [
    {
      "cell_type": "markdown",
      "metadata": {
        "id": "view-in-github",
        "colab_type": "text"
      },
      "source": [
        "<a href=\"https://colab.research.google.com/github/jcent-png/delete/blob/main/7b_Sorting_2_2.ipynb\" target=\"_parent\"><img src=\"https://colab.research.google.com/assets/colab-badge.svg\" alt=\"Open In Colab\"/></a>"
      ]
    },
    {
      "cell_type": "markdown",
      "metadata": {
        "id": "hynQdyc-OnwA"
      },
      "source": [
        "# Sorting"
      ]
    },
    {
      "cell_type": "markdown",
      "metadata": {
        "id": "_HGIF5WhOnwH"
      },
      "source": [
        "## Introduction\n",
        "\n",
        "### Tap tap tap.................  You can be guaranteed that you will be required to do sorting on all of the exams in the course."
      ]
    },
    {
      "cell_type": "markdown",
      "metadata": {
        "id": "NLfq3nj8OnwI"
      },
      "source": [
        "It's common for programmer to want to sort groups of data. For example, we might want to sort a list of employees by their start date. Python provides a built in function for doing this sort of work: `sorted()` (see the [documentation](https://docs.python.org/3/library/functions.html#sorted) for more details).\n",
        "\n",
        "- Python has an entire tutorial dedicated to [Sorting](https://docs.python.org/3/howto/sorting.html).\n",
        "  - Many of the examples, and even some of the text in this notebook, are taken directly from this tutorial."
      ]
    },
    {
      "cell_type": "markdown",
      "metadata": {
        "id": "63C6bvDuOnwJ"
      },
      "source": [
        "## Simple Sorting"
      ]
    },
    {
      "cell_type": "markdown",
      "metadata": {
        "id": "0OnCalhTOnwK"
      },
      "source": [
        "A simple ascending sort is very easy: just call the `sorted()` function. It returns a new sorted list:"
      ]
    },
    {
      "cell_type": "code",
      "execution_count": 1,
      "metadata": {
        "id": "VdNQQ84NOnwK",
        "colab": {
          "base_uri": "https://localhost:8080/"
        },
        "outputId": "c8895e22-8f39-4e24-b5a5-3474dfa97b3b"
      },
      "outputs": [
        {
          "output_type": "execute_result",
          "data": {
            "text/plain": [
              "[1, 2, 3, 4, 5]"
            ]
          },
          "metadata": {},
          "execution_count": 1
        }
      ],
      "source": [
        "my_tuple = (5, 2, 3, 1, 4)\n",
        "sorted(my_tuple)"
      ]
    },
    {
      "cell_type": "markdown",
      "metadata": {
        "id": "cl8lLH1DOnwL"
      },
      "source": [
        "- You can pass any iterable to `sorted()`.\n",
        "- Notice that `sorted()` returns a `list`.\n",
        "  - If you need a different type, you'll need to cast it to the new type.\n",
        "\n",
        "If we want, we can use the `reverse` keyword to return the items in reverse order:"
      ]
    },
    {
      "cell_type": "code",
      "execution_count": 2,
      "metadata": {
        "id": "JsRqwgjcOnwM",
        "colab": {
          "base_uri": "https://localhost:8080/"
        },
        "outputId": "efdb8623-dfe1-4451-96f3-7cbe11f8fcf0"
      },
      "outputs": [
        {
          "output_type": "execute_result",
          "data": {
            "text/plain": [
              "[5, 4, 3, 2, 1]"
            ]
          },
          "metadata": {},
          "execution_count": 2
        }
      ],
      "source": [
        "my_tuple = (5, 2, 3, 1, 4)\n",
        "sorted(my_tuple, reverse=True)"
      ]
    },
    {
      "cell_type": "markdown",
      "metadata": {
        "id": "TI7fSjilOnwM"
      },
      "source": [
        "## Key Functions"
      ]
    },
    {
      "cell_type": "markdown",
      "metadata": {
        "id": "CT-8NarxOnwM"
      },
      "source": [
        "By default, Python will simply use the `<` operator to compare values. So, when determining order of integers, `sorted()` will evaluate the expression `a < b` for various values and use the results to order the items.\n",
        "\n",
        "However, we can call a function on each item *before* this comparison is made. This gives us a lot of power to arbitrarily order our iterables.\n",
        "\n",
        "**For example, we can sort a list of tuples by checking the 3rd element in the list.**"
      ]
    },
    {
      "cell_type": "code",
      "execution_count": 3,
      "metadata": {
        "id": "kWRFJLFeOnwN",
        "colab": {
          "base_uri": "https://localhost:8080/"
        },
        "outputId": "3fa4e2b5-f8a0-4bd7-d09e-3fb810f3d7c6"
      },
      "outputs": [
        {
          "output_type": "execute_result",
          "data": {
            "text/plain": [
              "[('dave', 'B', 10), ('jane', 'B', 12), ('john', 'A', 15)]"
            ]
          },
          "metadata": {},
          "execution_count": 3
        }
      ],
      "source": [
        "# Define the list of tuples\n",
        "# each tuple has name, grade, credits earned\n",
        "student_tuples = [\n",
        "    ('john', 'A', 15),\n",
        "    ('jane', 'B', 12),\n",
        "    ('dave', 'B', 10),\n",
        "]\n",
        "\n",
        "# Method 1: Create the function traditionally --------------------------\n",
        "def sorting_func(tup):\n",
        "    return tup[2]\n",
        "\n",
        "# Return the sorted tuples\n",
        "sorted(student_tuples, key=sorting_func)"
      ]
    },
    {
      "cell_type": "markdown",
      "metadata": {
        "id": "JUHSGLKj1cBO"
      },
      "source": [
        "### Tap tap tap, you want to know this one very well!!"
      ]
    },
    {
      "cell_type": "code",
      "execution_count": 4,
      "metadata": {
        "id": "KpqnoLRp1cBP",
        "colab": {
          "base_uri": "https://localhost:8080/"
        },
        "outputId": "7b8005f4-b9fd-4e64-df78-4874586e14e4"
      },
      "outputs": [
        {
          "output_type": "stream",
          "name": "stdout",
          "text": [
            "[('dave', 'B', 10), ('jane', 'B', 12), ('john', 'A', 15)]\n",
            "[('john', 'A', 15), ('jane', 'B', 12), ('dave', 'B', 10)]\n"
          ]
        }
      ],
      "source": [
        "# Method 2: Use a lambda function --------------------------------------\n",
        "\n",
        "# sort in ascending order\n",
        "print(sorted(student_tuples, key=lambda tup: tup[2]))\n",
        "\n",
        "# sort in descending order\n",
        "print(sorted(student_tuples, key=lambda tup: -tup[2]))"
      ]
    },
    {
      "cell_type": "code",
      "source": [
        "# sort by name, in descending order\n",
        "\n",
        "# this one throws an error. Why?\n",
        "sorted(student_tuples, key=lambda tup: -tup[0])"
      ],
      "metadata": {
        "colab": {
          "base_uri": "https://localhost:8080/",
          "height": 262
        },
        "id": "j_y1YjZXd8zL",
        "outputId": "b6b9d414-dc6e-44b0-9cae-8643633439b3"
      },
      "execution_count": 14,
      "outputs": [
        {
          "output_type": "error",
          "ename": "TypeError",
          "evalue": "bad operand type for unary -: 'str'",
          "traceback": [
            "\u001b[0;31m---------------------------------------------------------------------------\u001b[0m",
            "\u001b[0;31mTypeError\u001b[0m                                 Traceback (most recent call last)",
            "\u001b[0;32m<ipython-input-14-0fbf4266d9f8>\u001b[0m in \u001b[0;36m<cell line: 0>\u001b[0;34m()\u001b[0m\n\u001b[1;32m      2\u001b[0m \u001b[0;34m\u001b[0m\u001b[0m\n\u001b[1;32m      3\u001b[0m \u001b[0;31m# this one throws an error. Why?\u001b[0m\u001b[0;34m\u001b[0m\u001b[0;34m\u001b[0m\u001b[0m\n\u001b[0;32m----> 4\u001b[0;31m \u001b[0msorted\u001b[0m\u001b[0;34m(\u001b[0m\u001b[0mstudent_tuples\u001b[0m\u001b[0;34m,\u001b[0m \u001b[0mkey\u001b[0m\u001b[0;34m=\u001b[0m\u001b[0;32mlambda\u001b[0m \u001b[0mtup\u001b[0m\u001b[0;34m:\u001b[0m \u001b[0;34m-\u001b[0m\u001b[0mtup\u001b[0m\u001b[0;34m[\u001b[0m\u001b[0;36m0\u001b[0m\u001b[0;34m]\u001b[0m\u001b[0;34m)\u001b[0m\u001b[0;34m\u001b[0m\u001b[0;34m\u001b[0m\u001b[0m\n\u001b[0m",
            "\u001b[0;32m<ipython-input-14-0fbf4266d9f8>\u001b[0m in \u001b[0;36m<lambda>\u001b[0;34m(tup)\u001b[0m\n\u001b[1;32m      2\u001b[0m \u001b[0;34m\u001b[0m\u001b[0m\n\u001b[1;32m      3\u001b[0m \u001b[0;31m# this one throws an error. Why?\u001b[0m\u001b[0;34m\u001b[0m\u001b[0;34m\u001b[0m\u001b[0m\n\u001b[0;32m----> 4\u001b[0;31m \u001b[0msorted\u001b[0m\u001b[0;34m(\u001b[0m\u001b[0mstudent_tuples\u001b[0m\u001b[0;34m,\u001b[0m \u001b[0mkey\u001b[0m\u001b[0;34m=\u001b[0m\u001b[0;32mlambda\u001b[0m \u001b[0mtup\u001b[0m\u001b[0;34m:\u001b[0m \u001b[0;34m-\u001b[0m\u001b[0mtup\u001b[0m\u001b[0;34m[\u001b[0m\u001b[0;36m0\u001b[0m\u001b[0;34m]\u001b[0m\u001b[0;34m)\u001b[0m\u001b[0;34m\u001b[0m\u001b[0;34m\u001b[0m\u001b[0m\n\u001b[0m",
            "\u001b[0;31mTypeError\u001b[0m: bad operand type for unary -: 'str'"
          ]
        }
      ]
    },
    {
      "cell_type": "code",
      "execution_count": 15,
      "metadata": {
        "id": "acLda7zt1cBP",
        "colab": {
          "base_uri": "https://localhost:8080/"
        },
        "outputId": "103d5b96-7bff-4cda-b208-85c6ecfb5706"
      },
      "outputs": [
        {
          "output_type": "execute_result",
          "data": {
            "text/plain": [
              "[('john', 'A', 15), ('jane', 'B', 12), ('dave', 'B', 10)]"
            ]
          },
          "metadata": {},
          "execution_count": 15
        }
      ],
      "source": [
        "\n",
        "# this one is correct\n",
        "sorted(student_tuples, key=lambda tup: tup[0], reverse=True)"
      ]
    },
    {
      "cell_type": "markdown",
      "metadata": {
        "id": "FoTyhQJZ1cBP"
      },
      "source": [
        "#### If you are asked sort strings in descending order, you must use the `reverse=True` parameter."
      ]
    },
    {
      "cell_type": "markdown",
      "metadata": {
        "id": "TQ8MErUz1cBP"
      },
      "source": [
        "### What if we want to sort by a specific index, and break any ties using a different index?\n",
        "\n",
        "### Tap tap tap........................\n",
        "\n",
        "#### For example, sort the `student_tuples` list first by grade ascending and break any ties by credits earned in descending order."
      ]
    },
    {
      "cell_type": "code",
      "execution_count": 6,
      "metadata": {
        "id": "fXbLcJai1cBP",
        "colab": {
          "base_uri": "https://localhost:8080/"
        },
        "outputId": "f8b257ee-0048-4c1e-ec66-55be9e6811b2"
      },
      "outputs": [
        {
          "output_type": "execute_result",
          "data": {
            "text/plain": [
              "[('john', 'A', 15), ('jane', 'B', 12), ('dave', 'B', 10)]"
            ]
          },
          "metadata": {},
          "execution_count": 6
        }
      ],
      "source": [
        "sorted(student_tuples, key=lambda tup: (tup[1], -tup[2]))"
      ]
    },
    {
      "cell_type": "markdown",
      "metadata": {
        "id": "iGVioBMM1cBP"
      },
      "source": [
        "**As above Note that the `-` syntax only works for numeric (integer and float) variables.**\n",
        "\n",
        "If we were to try to do a descending sort with `-` using one of the string variables, it would throw an error."
      ]
    },
    {
      "cell_type": "code",
      "execution_count": 16,
      "metadata": {
        "id": "kV5dz6r01cBP",
        "colab": {
          "base_uri": "https://localhost:8080/",
          "height": 228
        },
        "outputId": "f8b3b390-76f2-437c-f253-20f5c5ae9901"
      },
      "outputs": [
        {
          "output_type": "error",
          "ename": "TypeError",
          "evalue": "bad operand type for unary -: 'str'",
          "traceback": [
            "\u001b[0;31m---------------------------------------------------------------------------\u001b[0m",
            "\u001b[0;31mTypeError\u001b[0m                                 Traceback (most recent call last)",
            "\u001b[0;32m<ipython-input-16-dc6438100b37>\u001b[0m in \u001b[0;36m<cell line: 0>\u001b[0;34m()\u001b[0m\n\u001b[1;32m      1\u001b[0m \u001b[0;31m# uncomment to see the error\u001b[0m\u001b[0;34m\u001b[0m\u001b[0;34m\u001b[0m\u001b[0m\n\u001b[0;32m----> 2\u001b[0;31m \u001b[0msorted\u001b[0m\u001b[0;34m(\u001b[0m\u001b[0mstudent_tuples\u001b[0m\u001b[0;34m,\u001b[0m \u001b[0mkey\u001b[0m\u001b[0;34m=\u001b[0m\u001b[0;32mlambda\u001b[0m \u001b[0mtup\u001b[0m\u001b[0;34m:\u001b[0m \u001b[0;34m(\u001b[0m\u001b[0mtup\u001b[0m\u001b[0;34m[\u001b[0m\u001b[0;36m1\u001b[0m\u001b[0;34m]\u001b[0m\u001b[0;34m,\u001b[0m \u001b[0;34m-\u001b[0m\u001b[0mtup\u001b[0m\u001b[0;34m[\u001b[0m\u001b[0;36m0\u001b[0m\u001b[0;34m]\u001b[0m\u001b[0;34m)\u001b[0m\u001b[0;34m)\u001b[0m\u001b[0;34m\u001b[0m\u001b[0;34m\u001b[0m\u001b[0m\n\u001b[0m",
            "\u001b[0;32m<ipython-input-16-dc6438100b37>\u001b[0m in \u001b[0;36m<lambda>\u001b[0;34m(tup)\u001b[0m\n\u001b[1;32m      1\u001b[0m \u001b[0;31m# uncomment to see the error\u001b[0m\u001b[0;34m\u001b[0m\u001b[0;34m\u001b[0m\u001b[0m\n\u001b[0;32m----> 2\u001b[0;31m \u001b[0msorted\u001b[0m\u001b[0;34m(\u001b[0m\u001b[0mstudent_tuples\u001b[0m\u001b[0;34m,\u001b[0m \u001b[0mkey\u001b[0m\u001b[0;34m=\u001b[0m\u001b[0;32mlambda\u001b[0m \u001b[0mtup\u001b[0m\u001b[0;34m:\u001b[0m \u001b[0;34m(\u001b[0m\u001b[0mtup\u001b[0m\u001b[0;34m[\u001b[0m\u001b[0;36m1\u001b[0m\u001b[0;34m]\u001b[0m\u001b[0;34m,\u001b[0m \u001b[0;34m-\u001b[0m\u001b[0mtup\u001b[0m\u001b[0;34m[\u001b[0m\u001b[0;36m0\u001b[0m\u001b[0;34m]\u001b[0m\u001b[0;34m)\u001b[0m\u001b[0;34m)\u001b[0m\u001b[0;34m\u001b[0m\u001b[0;34m\u001b[0m\u001b[0m\n\u001b[0m",
            "\u001b[0;31mTypeError\u001b[0m: bad operand type for unary -: 'str'"
          ]
        }
      ],
      "source": [
        "# uncomment to see the error\n",
        "sorted(student_tuples, key=lambda tup: (tup[1], -tup[0]))"
      ]
    },
    {
      "cell_type": "code",
      "execution_count": 17,
      "metadata": {
        "id": "biwAd3yv1cBP",
        "colab": {
          "base_uri": "https://localhost:8080/"
        },
        "outputId": "7ba743da-2034-4389-d583-97f6b06f83e8"
      },
      "outputs": [
        {
          "output_type": "execute_result",
          "data": {
            "text/plain": [
              "[('jane', 'B', 12), ('dave', 'B', 10), ('john', 'A', 15)]"
            ]
          },
          "metadata": {},
          "execution_count": 17
        }
      ],
      "source": [
        "# you have to use the \"reverse\" keyword, but it applies to all the sorting\n",
        "sorted(student_tuples, key=lambda tup: (tup[1], tup[0]), reverse=True)"
      ]
    },
    {
      "cell_type": "markdown",
      "metadata": {
        "id": "1laaJTY21cBP"
      },
      "source": [
        "### On an exam, you will not be asked to sort by multiple elements, in which the element in descending order is not a numeric variable."
      ]
    },
    {
      "cell_type": "markdown",
      "metadata": {
        "id": "f7Cn6K9LOnwN"
      },
      "source": [
        "## A more complex example, using `sorted()`\n",
        "\n",
        "### Recall this complex data structure, from the nested data notebook."
      ]
    },
    {
      "cell_type": "code",
      "execution_count": 18,
      "metadata": {
        "id": "ePUnbB3J1cBP"
      },
      "outputs": [],
      "source": [
        "my_family = [\n",
        "  { \"family_name\": \"Tunnicliffe\",\n",
        "    \"num_people\": 4,\n",
        "    \"local\": True,\n",
        "    \"city\": \"Bethpage, NY\",\n",
        "    \"date_established\": 2014,\n",
        "    \"names\": [\"Diane\", \"Steve\", \"Dylan\", \"Landon\"],\n",
        "    \"number_of_children\": 2,\n",
        "    \"children\": [\n",
        "      {\n",
        "        \"name\": \"Dylan\",\n",
        "        \"age\": 5,\n",
        "        \"favorite_color\": \"black\",\n",
        "        \"nickname\": \"Dillybeans\",\n",
        "        \"loves\": \"Super Mario\",\n",
        "      },\n",
        "      {\n",
        "        \"name\": \"Landon\",\n",
        "        \"age\": 2,\n",
        "        \"favorite_color\": \"blue\",\n",
        "        \"nickname\": \"Landybean\",\n",
        "        \"loves\": \"trucks\",\n",
        "      }\n",
        "    ]\n",
        "  },\n",
        "  { \"family_name\": \"Agulnick\",\n",
        "    \"num_people\": 5,\n",
        "    \"local\": False,\n",
        "    \"city\": \"Newton, MA\",\n",
        "    \"date_established\": 1987,\n",
        "    \"names\": [\"Ellen\", \"Mark\", \"Diane\", \"Joshua\", \"Allison\"],\n",
        "    \"number_of_children\": 3,\n",
        "    \"children\": [\n",
        "      {\n",
        "        \"name\": \"Diane\",\n",
        "        \"age\": 31,\n",
        "        \"favorite_color\": \"pink\",\n",
        "        \"nickname\": \"Dini\",\n",
        "        \"loves\": \"unicorns\",\n",
        "      },\n",
        "      {\n",
        "        \"name\": \"Joshua\",\n",
        "        \"age\": 28,\n",
        "        \"favorite_color\": \"red\",\n",
        "        \"nickname\": \"Joshie\",\n",
        "        \"loves\": \"trains\",\n",
        "      },\n",
        "      {\n",
        "        \"name\": \"Allison\",\n",
        "        \"age\": 26,\n",
        "        \"favorite_color\": \"purple\",\n",
        "        \"nickname\": \"Alli\",\n",
        "        \"loves\": \"candy\",\n",
        "      }\n",
        "    ]\n",
        "  }\n",
        "]"
      ]
    },
    {
      "cell_type": "markdown",
      "metadata": {
        "id": "ZhPZYV6D1cBP"
      },
      "source": [
        "As before, we can go to Python Tutor to visualize the data.\n",
        "\n",
        "https://pythontutor.com/python-debugger.html#mode=edit"
      ]
    },
    {
      "cell_type": "markdown",
      "metadata": {
        "id": "0ySutxTL1cBQ"
      },
      "source": [
        "### Find the Oldest and Youngest child\n",
        "\n",
        "#### This question uses sorting and a lambda function, in conjunction with other programming logic.\n",
        "\n",
        "#### The code here represents what might be required to solve a (simple or easy) 2-point question on an exam."
      ]
    },
    {
      "cell_type": "markdown",
      "metadata": {
        "id": "lFS9ps4e1cBQ"
      },
      "source": [
        "### Requirement:\n",
        "\n",
        "Return a tuple with two string elements.\n",
        "\n",
        "The first element is the name of the oldest child.\n",
        "\n",
        "The second element is the name of the youngest child."
      ]
    },
    {
      "cell_type": "code",
      "execution_count": 19,
      "metadata": {
        "id": "sv9tlx7o1cBQ",
        "colab": {
          "base_uri": "https://localhost:8080/",
          "height": 70
        },
        "outputId": "c741f818-2ee6-4072-eab2-85191c8f2077"
      },
      "outputs": [
        {
          "output_type": "execute_result",
          "data": {
            "text/plain": [
              "'\\ndefine the variables required, set to empty values\\n    oldest child\\n    youngest child\\n    list of children\\n\\nloop over the input list\\n    for each child\\n        append the child dictionary to the list\\n\\nsort the list by child age, from oldest to youngest\\n\\nthe first child in the list will be the oldest, so assign their name to the oldest child variable\\n\\nthe last child in the list will be the youngest, so assign their name the youngest child varilable\\n\\ncreate and return the tuple\\n\\n'"
            ],
            "application/vnd.google.colaboratory.intrinsic+json": {
              "type": "string"
            }
          },
          "metadata": {},
          "execution_count": 19
        }
      ],
      "source": [
        "'''\n",
        "define the variables required, set to empty values\n",
        "    oldest child\n",
        "    youngest child\n",
        "    list of children\n",
        "\n",
        "loop over the input list\n",
        "    for each child\n",
        "        append the child dictionary to the list\n",
        "\n",
        "sort the list by child age, from oldest to youngest\n",
        "\n",
        "the first child in the list will be the oldest, so assign their name to the oldest child variable\n",
        "\n",
        "the last child in the list will be the youngest, so assign their name the youngest child varilable\n",
        "\n",
        "create and return the tuple\n",
        "\n",
        "'''"
      ]
    },
    {
      "cell_type": "code",
      "execution_count": 20,
      "metadata": {
        "id": "8Dit8_D_1cBQ"
      },
      "outputs": [],
      "source": [
        "def oldest_youngest(my_family):\n",
        "\n",
        "    #### YOUR CODE HERE\n",
        "#     oldest_child = None\n",
        "#     youngest_child = None\n",
        "#     children = []\n",
        "\n",
        "#     for unit in my_family:\n",
        "#         for child in unit['children']:\n",
        "#             children.append(child)\n",
        "\n",
        "#     print(children)\n",
        "\n",
        "#     sorted_children = (sorted(children, key = lambda child: child['age'], reverse = True))\n",
        "\n",
        "#     oldest_child = sorted_children[0]['name']\n",
        "#     youngest_child = sorted_children[-1]['name']\n",
        "\n",
        "#     return (oldest_child, youngest_child)\n",
        "\n",
        "    pass   # placeholder"
      ]
    },
    {
      "cell_type": "code",
      "execution_count": 21,
      "metadata": {
        "id": "ykxFOAhY1cBQ",
        "colab": {
          "base_uri": "https://localhost:8080/",
          "height": 193
        },
        "outputId": "62bcd3c9-d029-4cc0-d371-c8e0b17f7ff9"
      },
      "outputs": [
        {
          "output_type": "error",
          "ename": "TypeError",
          "evalue": "cannot unpack non-iterable NoneType object",
          "traceback": [
            "\u001b[0;31m---------------------------------------------------------------------------\u001b[0m",
            "\u001b[0;31mTypeError\u001b[0m                                 Traceback (most recent call last)",
            "\u001b[0;32m<ipython-input-21-5e3d0742c3e4>\u001b[0m in \u001b[0;36m<cell line: 0>\u001b[0;34m()\u001b[0m\n\u001b[1;32m      1\u001b[0m \u001b[0;31m# will return error until function above is written\u001b[0m\u001b[0;34m\u001b[0m\u001b[0;34m\u001b[0m\u001b[0m\n\u001b[0;32m----> 2\u001b[0;31m \u001b[0;34m(\u001b[0m\u001b[0moldest\u001b[0m\u001b[0;34m,\u001b[0m\u001b[0myoungest\u001b[0m\u001b[0;34m)\u001b[0m \u001b[0;34m=\u001b[0m \u001b[0moldest_youngest\u001b[0m\u001b[0;34m(\u001b[0m\u001b[0mmy_family\u001b[0m\u001b[0;34m)\u001b[0m\u001b[0;34m\u001b[0m\u001b[0;34m\u001b[0m\u001b[0m\n\u001b[0m\u001b[1;32m      3\u001b[0m \u001b[0;34m\u001b[0m\u001b[0m\n\u001b[1;32m      4\u001b[0m \u001b[0mprint\u001b[0m\u001b[0;34m(\u001b[0m\u001b[0;34mf\"The oldest child is {oldest}. The youngest child is {youngest}.\"\u001b[0m\u001b[0;34m)\u001b[0m\u001b[0;34m\u001b[0m\u001b[0;34m\u001b[0m\u001b[0m\n",
            "\u001b[0;31mTypeError\u001b[0m: cannot unpack non-iterable NoneType object"
          ]
        }
      ],
      "source": [
        "# will return error until function above is written\n",
        "(oldest,youngest) = oldest_youngest(my_family)\n",
        "\n",
        "print(f\"The oldest child is {oldest}. The youngest child is {youngest}.\")"
      ]
    },
    {
      "cell_type": "markdown",
      "metadata": {
        "id": "9JhNxCZ-OnwN"
      },
      "source": [
        "## Final Thoughts: Sorting in Place"
      ]
    },
    {
      "cell_type": "markdown",
      "metadata": {
        "id": "hayAnW42OnwN"
      },
      "source": [
        "Using `sorted()` **does not change the original iterable.** It simply returns a new list.\n",
        "\n",
        "However, Python lists have a method, `list.sort()`, which **does** change the original list. This means you will be modifing your original data!\n",
        "\n",
        "- **Do not use this unless you know *for a fact* that you will not need the original list.**"
      ]
    },
    {
      "cell_type": "code",
      "execution_count": 22,
      "metadata": {
        "id": "UddyabT-OnwN",
        "colab": {
          "base_uri": "https://localhost:8080/"
        },
        "outputId": "34c5d876-0f92-4fdb-ca7a-008c791c31f2"
      },
      "outputs": [
        {
          "output_type": "stream",
          "name": "stdout",
          "text": [
            "First list ID: 135254585525568\n",
            "Second list ID: 135254587013504\n",
            "OK, modifying the first list won't impact the second list.\n"
          ]
        }
      ],
      "source": [
        "first_list = [2, 7, 3, 9, 10, 1]\n",
        "second_list = first_list.copy()\n",
        "\n",
        "# Are these the *same* list, or are they different?\n",
        "print(\"First list ID:\", id(first_list))\n",
        "print(\"Second list ID:\", id(second_list))\n",
        "\n",
        "if id(first_list) == id(second_list):\n",
        "    print(\"Wait, these are the same list!\")\n",
        "else:\n",
        "    print(\"OK, modifying the first list won't impact the second list.\")"
      ]
    },
    {
      "cell_type": "code",
      "execution_count": 23,
      "metadata": {
        "id": "MgsSWBzM1cBQ",
        "colab": {
          "base_uri": "https://localhost:8080/"
        },
        "outputId": "b78b4146-7013-472d-aa4b-414c5d8b11e8"
      },
      "outputs": [
        {
          "output_type": "stream",
          "name": "stdout",
          "text": [
            "What does our sorted first_list look like? [1, 2, 3, 7, 9, 10]\n",
            "What does our original first_list look like? [2, 7, 3, 9, 10, 1]\n"
          ]
        }
      ],
      "source": [
        "first_list_sorted = sorted(first_list)\n",
        "print(\"What does our sorted first_list look like?\", first_list_sorted)\n",
        "print(\"What does our original first_list look like?\", first_list)"
      ]
    },
    {
      "cell_type": "code",
      "execution_count": 24,
      "metadata": {
        "id": "_Fvs3Tu21cBQ",
        "colab": {
          "base_uri": "https://localhost:8080/"
        },
        "outputId": "3e6b2218-7d71-4ee8-8d80-65c834049f81"
      },
      "outputs": [
        {
          "output_type": "stream",
          "name": "stdout",
          "text": [
            "What does the return value of the .sort() method look like? None\n",
            "What does our original second_list look like? [1, 2, 3, 7, 9, 10]\n"
          ]
        }
      ],
      "source": [
        "second_list_output = second_list.sort()\n",
        "print(\"What does the return value of the .sort() method look like?\", second_list_output)\n",
        "print(\"What does our original second_list look like?\", second_list)"
      ]
    },
    {
      "cell_type": "markdown",
      "metadata": {
        "id": "CW8Hz23XOnwO"
      },
      "source": [
        "### Tap tap tap, this is important!!\n",
        "\n",
        "We can see from the output above that the `.sort()` method will change the original list. Keep this in mind if you need to sort something.\n",
        "\n",
        "For this reason, we generally recommend to use the `sorted()` function and assign the result to a **NEW VARIABLE**.\n",
        "\n",
        "**This is one of the scenarios that we typically see in exams, when the test case variables return a failure because the student has modified an input variable.**\n",
        "\n",
        "**The student has modified an input variable using `sort()`, when they should have created a new variable using `sorted()`."
      ]
    },
    {
      "cell_type": "markdown",
      "metadata": {
        "id": "AIu8Hqnz1cBQ"
      },
      "source": [
        "## What are your questions on sorting?"
      ]
    }
  ],
  "metadata": {
    "colab": {
      "provenance": [],
      "include_colab_link": true
    },
    "kernelspec": {
      "display_name": "Python 3 (ipykernel)",
      "language": "python",
      "name": "python3"
    },
    "language_info": {
      "codemirror_mode": {
        "name": "ipython",
        "version": 3
      },
      "file_extension": ".py",
      "mimetype": "text/x-python",
      "name": "python",
      "nbconvert_exporter": "python",
      "pygments_lexer": "ipython3",
      "version": "3.9.13"
    }
  },
  "nbformat": 4,
  "nbformat_minor": 0
}