{
  "cells": [
    {
      "cell_type": "markdown",
      "metadata": {
        "id": "view-in-github",
        "colab_type": "text"
      },
      "source": [
        "<a href=\"https://colab.research.google.com/github/jcent-png/delete/blob/main/6b_Nested_Data_examples_2_2.ipynb\" target=\"_parent\"><img src=\"https://colab.research.google.com/assets/colab-badge.svg\" alt=\"Open In Colab\"/></a>"
      ]
    },
    {
      "cell_type": "markdown",
      "id": "3e486c9a",
      "metadata": {
        "id": "3e486c9a"
      },
      "source": [
        "# Nested Data Exercises"
      ]
    },
    {
      "cell_type": "markdown",
      "id": "12663b12",
      "metadata": {
        "id": "12663b12"
      },
      "source": [
        "## Here is a data structure and some simple questions that require us to retrieve information from it."
      ]
    },
    {
      "cell_type": "markdown",
      "id": "346b2bde",
      "metadata": {
        "id": "346b2bde"
      },
      "source": [
        "### The notebook presents a complex nested data structure and some practical questions to answer about it.\n",
        "\n",
        "### The complexity of these questions represent what a 1-point exercise on the exam might look like.\n",
        "\n",
        "### Exams have 1-point, 2-point, and 3-point questions, rising in complexity with point value."
      ]
    },
    {
      "cell_type": "markdown",
      "source": [
        "* 1-pt: should solve in 5-10 mins\n",
        "* 2-pt:\n",
        "* 3-pt: write an algorithm"
      ],
      "metadata": {
        "id": "7XkA1KV7XfoX"
      },
      "id": "7XkA1KV7XfoX"
    },
    {
      "cell_type": "code",
      "execution_count": null,
      "id": "f980b351",
      "metadata": {
        "id": "f980b351"
      },
      "outputs": [],
      "source": [
        "\n",
        "my_family = [\n",
        "  { \"family_name\": \"Tunnicliffe\",\n",
        "    \"num_people\": 4,\n",
        "    \"local\": True,\n",
        "    \"city\": \"Bethpage, NY\",\n",
        "    \"date_established\": 2014,\n",
        "    \"names\": [\"Diane\", \"Steve\", \"Dylan\", \"Landon\"],\n",
        "    \"number_of_children\": 2,\n",
        "    \"children\": [\n",
        "      {\n",
        "        \"name\": \"Dylan\",\n",
        "        \"age\": 5,\n",
        "        \"favorite_color\": \"black\",\n",
        "        \"nickname\": \"Dillybeans\",\n",
        "        \"loves\": \"Super Mario\",\n",
        "      },\n",
        "      {\n",
        "        \"name\": \"Landon\",\n",
        "        \"age\": 2,\n",
        "        \"favorite_color\": \"blue\",\n",
        "        \"nickname\": \"Landybean\",\n",
        "        \"loves\": \"trucks\",\n",
        "      }\n",
        "    ]\n",
        "  },\n",
        "  { \"family_name\": \"Agulnick\",\n",
        "    \"num_people\": 5,\n",
        "    \"local\": False,\n",
        "    \"city\": \"Newton, MA\",\n",
        "    \"date_established\": 1987,\n",
        "    \"names\": [\"Ellen\", \"Mark\", \"Diane\", \"Joshua\", \"Allison\"],\n",
        "    \"number_of_children\": 3,\n",
        "    \"children\": [\n",
        "      {\n",
        "        \"name\": \"Diane\",\n",
        "        \"age\": 31,\n",
        "        \"favorite_color\": \"pink\",\n",
        "        \"nickname\": \"Dini\",\n",
        "        \"loves\": \"unicorns\",\n",
        "      },\n",
        "      {\n",
        "        \"name\": \"Joshua\",\n",
        "        \"age\": 28,\n",
        "        \"favorite_color\": \"red\",\n",
        "        \"nickname\": \"Joshie\",\n",
        "        \"loves\": \"Super Mario\",\n",
        "      },\n",
        "      {\n",
        "        \"name\": \"Allison\",\n",
        "        \"age\": 26,\n",
        "        \"favorite_color\": \"purple\",\n",
        "        \"nickname\": \"Alli\",\n",
        "        \"loves\": \"candy\",\n",
        "      }\n",
        "    ]\n",
        "  }\n",
        "]"
      ]
    },
    {
      "cell_type": "markdown",
      "id": "b7c1d792",
      "metadata": {
        "id": "b7c1d792"
      },
      "source": [
        "#### Let's go back to PythonTutor for visualizing the data structure.\n",
        "\n",
        "#### Students can use this site on the exams, and we recommend that students use it, for complex data structures that are not easy to understand at a glance.\n",
        "\n",
        "https://pythontutor.com/python-debugger.html#mode=edit"
      ]
    },
    {
      "cell_type": "markdown",
      "id": "9116d22c",
      "metadata": {
        "id": "9116d22c"
      },
      "source": [
        "### Q1. Find the names of all children and put into a list."
      ]
    },
    {
      "cell_type": "markdown",
      "source": [
        " 1-pt question\n",
        "*  Looping over nested dictionary -> ... -> return data structure"
      ],
      "metadata": {
        "id": "b8D_fz94YmPn"
      },
      "id": "b8D_fz94YmPn"
    },
    {
      "cell_type": "code",
      "execution_count": null,
      "id": "07e32824",
      "metadata": {
        "id": "07e32824"
      },
      "outputs": [],
      "source": [
        "\"\"\"\n",
        "create an empty list to hold the child names #(bc want to return a list)\n",
        "\n",
        "Loop over the 2 families #(looping over the 'my_family... list of 2 dictionaries)\n",
        "\n",
        "   loop over the children dictionary in each family unit (children dictionary key) #(get to each childrens lists)\n",
        "\n",
        "        append each child name to the list (name dictionary key)\n",
        "\n",
        "return the list\n",
        "\"\"\""
      ]
    },
    {
      "cell_type": "code",
      "execution_count": null,
      "id": "7988e424",
      "metadata": {
        "id": "7988e424"
      },
      "outputs": [],
      "source": [
        "def children_names(my_family):\n",
        "\n",
        "    #### YOUR CODE HERE\n",
        "#     children = []\n",
        "\n",
        "#     for unit in my_family:\n",
        "#         print(unit)\n",
        "\n",
        "#         for child in unit['children']:\n",
        "#             print(child)\n",
        "\n",
        "#             children.append(child['name'])\n",
        "\n",
        "#     return children\n",
        "\n",
        "    pass  # comment out when writing code (although does it really matter?)\n",
        "\n",
        "children_names(my_family)"
      ]
    },
    {
      "cell_type": "code",
      "source": [
        "# Check if you are getting the correct values out using print(unit)\n",
        "def children_names(my_family):\n",
        "\n",
        "    ### YOUR CODE HERE\n",
        "    children = [] #initializing list\n",
        "\n",
        "    for unit in my_family:\n",
        "      print(unit)\n",
        "        #print(unit) # am i getting the correct info out\n",
        "\n",
        "    #     for child in unit['children']:\n",
        "    #         print(child)\n",
        "\n",
        "    #         children.append(child['name'])\n",
        "\n",
        "    # return children\n",
        "\n",
        "    # pass  # comment out when writing code (although does it really matter?)\n",
        "\n",
        "children_names(my_family)"
      ],
      "metadata": {
        "colab": {
          "base_uri": "https://localhost:8080/"
        },
        "id": "y-6ECwiuZiSI",
        "outputId": "e0528b59-67ae-4812-8080-356524be8701"
      },
      "id": "y-6ECwiuZiSI",
      "execution_count": null,
      "outputs": [
        {
          "output_type": "stream",
          "name": "stdout",
          "text": [
            "{'family_name': 'Tunnicliffe', 'num_people': 4, 'local': True, 'city': 'Bethpage, NY', 'date_established': 2014, 'names': ['Diane', 'Steve', 'Dylan', 'Landon'], 'number_of_children': 2, 'children': [{'name': 'Dylan', 'age': 5, 'favorite_color': 'black', 'nickname': 'Dillybeans', 'loves': 'Super Mario'}, {'name': 'Landon', 'age': 2, 'favorite_color': 'blue', 'nickname': 'Landybean', 'loves': 'trucks'}]}\n",
            "{'family_name': 'Agulnick', 'num_people': 5, 'local': False, 'city': 'Newton, MA', 'date_established': 1987, 'names': ['Ellen', 'Mark', 'Diane', 'Joshua', 'Allison'], 'number_of_children': 3, 'children': [{'name': 'Diane', 'age': 31, 'favorite_color': 'pink', 'nickname': 'Dini', 'loves': 'unicorns'}, {'name': 'Joshua', 'age': 28, 'favorite_color': 'red', 'nickname': 'Joshie', 'loves': 'Super Mario'}, {'name': 'Allison', 'age': 26, 'favorite_color': 'purple', 'nickname': 'Alli', 'loves': 'candy'}]}\n"
          ]
        }
      ]
    },
    {
      "cell_type": "code",
      "source": [
        "def children_names(my_family):\n",
        "\n",
        "    ### YOUR CODE HERE\n",
        "    children = []\n",
        "\n",
        "    for unit in my_family:\n",
        "        #print(unit)\n",
        "\n",
        "        for child in unit['children']:\n",
        "            print(child)\n",
        "\n",
        "            #children.append(child['name'])\n",
        "\n",
        "    #return children\n",
        "\n",
        "    pass  # comment out when writing code (although does it really matter?)\n",
        "\n",
        "children_names(my_family)"
      ],
      "metadata": {
        "colab": {
          "base_uri": "https://localhost:8080/"
        },
        "id": "Eh3gBpEXaCux",
        "outputId": "a1d1be65-8b55-4864-cae5-761411082e8b"
      },
      "id": "Eh3gBpEXaCux",
      "execution_count": null,
      "outputs": [
        {
          "output_type": "stream",
          "name": "stdout",
          "text": [
            "{'name': 'Dylan', 'age': 5, 'favorite_color': 'black', 'nickname': 'Dillybeans', 'loves': 'Super Mario'}\n",
            "{'name': 'Landon', 'age': 2, 'favorite_color': 'blue', 'nickname': 'Landybean', 'loves': 'trucks'}\n",
            "{'name': 'Diane', 'age': 31, 'favorite_color': 'pink', 'nickname': 'Dini', 'loves': 'unicorns'}\n",
            "{'name': 'Joshua', 'age': 28, 'favorite_color': 'red', 'nickname': 'Joshie', 'loves': 'Super Mario'}\n",
            "{'name': 'Allison', 'age': 26, 'favorite_color': 'purple', 'nickname': 'Alli', 'loves': 'candy'}\n"
          ]
        }
      ]
    },
    {
      "cell_type": "code",
      "source": [
        "def children_names(my_family):\n",
        "\n",
        "    ### YOUR CODE HERE\n",
        "    children = []\n",
        "\n",
        "    for unit in my_family:\n",
        "        #print(unit)\n",
        "\n",
        "        for child in unit['children']:\n",
        "           # print(child)\n",
        "\n",
        "            children.append(child['name'])\n",
        "            print(child['name'])\n",
        "\n",
        "    #return children\n",
        "\n",
        "    pass  # comment out when writing code (although does it really matter?)\n",
        "\n",
        "children_names(my_family)"
      ],
      "metadata": {
        "colab": {
          "base_uri": "https://localhost:8080/"
        },
        "id": "07QfHNn1aOIF",
        "outputId": "d7e48860-5853-45da-ab7e-9c402012497c"
      },
      "id": "07QfHNn1aOIF",
      "execution_count": null,
      "outputs": [
        {
          "output_type": "stream",
          "name": "stdout",
          "text": [
            "Dylan\n",
            "Landon\n",
            "Diane\n",
            "Joshua\n",
            "Allison\n"
          ]
        }
      ]
    },
    {
      "cell_type": "code",
      "source": [
        "#1 pt problem\n",
        "def children_names(my_family):\n",
        "\n",
        "    ### YOUR CODE HERE\n",
        "    children = []\n",
        "\n",
        "    for unit in my_family:\n",
        "        #print(unit)\n",
        "\n",
        "        for child in unit['children']:\n",
        "           # print(child)\n",
        "\n",
        "            children.append(child['name'])\n",
        "            # print(child['name'])\n",
        "\n",
        "    return children\n",
        "\n",
        "    pass  # comment out when writing code (although does it really matter?)\n",
        "\n",
        "children_names(my_family)"
      ],
      "metadata": {
        "colab": {
          "base_uri": "https://localhost:8080/"
        },
        "id": "Omn3C4Q_abfO",
        "outputId": "fe306528-ccc0-4ff2-a58f-5e26e0028a40"
      },
      "id": "Omn3C4Q_abfO",
      "execution_count": null,
      "outputs": [
        {
          "output_type": "execute_result",
          "data": {
            "text/plain": [
              "['Dylan', 'Landon', 'Diane', 'Joshua', 'Allison']"
            ]
          },
          "metadata": {},
          "execution_count": 7
        }
      ]
    },
    {
      "cell_type": "code",
      "source": [
        "Other possible 1-pt problems\n",
        "# Sort the kids name in alphabetical order\n",
        "# return the names and age in tuple"
      ],
      "metadata": {
        "id": "wC49gVaAap1I"
      },
      "id": "wC49gVaAap1I",
      "execution_count": null,
      "outputs": []
    },
    {
      "cell_type": "markdown",
      "source": [
        "* Other possible 1-pt problems\n",
        "  * Sort the kids name in alphabetical order\n",
        "  * return the names and age in tuple"
      ],
      "metadata": {
        "id": "tL8s0qiia24N"
      },
      "id": "tL8s0qiia24N"
    },
    {
      "cell_type": "markdown",
      "id": "bb3a443f",
      "metadata": {
        "id": "bb3a443f"
      },
      "source": [
        "### Q2. Find names and ages of children in the non-local family unit, put each name and age into a tuple, and put the tuples into a list.\n",
        "  * Returning a list of tuples\n",
        "    * each tuple has names and ages of each kid in the non-local fam unit\n",
        "    "
      ]
    },
    {
      "cell_type": "code",
      "execution_count": null,
      "id": "d7df38c1",
      "metadata": {
        "id": "d7df38c1"
      },
      "outputs": [],
      "source": [
        "\"\"\"\n",
        "create an empty list to hold the child names\n",
        "\n",
        "Loop over the 2 families\n",
        "\n",
        "   Look at the \"local\" key and if it is false:\n",
        "\n",
        "        loop over the children dictionary in each family unit (children dictionary key)\n",
        "\n",
        "             create the tuple with the child name and child age values\n",
        "             append each child name/age tuple to the list\n",
        "\n",
        "return the list\n",
        "\"\"\""
      ]
    },
    {
      "cell_type": "code",
      "execution_count": null,
      "id": "1696348b",
      "metadata": {
        "id": "1696348b"
      },
      "outputs": [],
      "source": [
        "def child_names_ages(my_family):\n",
        "\n",
        "    #### YOUR CODE HERE\n",
        "#     child_ages = []\n",
        "\n",
        "#     for unit in my_family:\n",
        "#         print(unit)\n",
        "\n",
        "#         if unit['local'] == False:\n",
        "\n",
        "#             for child in unit['children']:\n",
        "#                 name_and_age = (child['name'], child['age'])\n",
        "#                 child_ages.append(name_and_age)\n",
        "\n",
        "#     return child_ages\n",
        "\n",
        "    pass    # comment out when writing code (although does it really matter?)\n",
        "\n",
        "child_names_ages(my_family)"
      ]
    },
    {
      "cell_type": "code",
      "source": [
        "def child_names_ages(my_family):\n",
        "\n",
        "    ### YOUR CODE HERE\n",
        "    child_ages = []\n",
        "\n",
        "    for unit in my_family:\n",
        "        print(unit)\n",
        "\n",
        "        if unit['local'] == False:\n",
        "          print(unit)\n",
        "\n",
        "#             for child in unit['children']:\n",
        "#                 name_and_age = (child['name'], child['age'])\n",
        "#                 child_ages.append(name_and_age)\n",
        "\n",
        "#     return child_ages\n",
        "\n",
        "    pass    # comment out when writing code (although does it really matter?)\n",
        "\n",
        "child_names_ages(my_family)"
      ],
      "metadata": {
        "colab": {
          "base_uri": "https://localhost:8080/"
        },
        "id": "DGtvmFJ5cI7h",
        "outputId": "486225fd-e388-471e-b4b6-edb2bb68eaf3"
      },
      "id": "DGtvmFJ5cI7h",
      "execution_count": null,
      "outputs": [
        {
          "output_type": "stream",
          "name": "stdout",
          "text": [
            "{'family_name': 'Tunnicliffe', 'num_people': 4, 'local': True, 'city': 'Bethpage, NY', 'date_established': 2014, 'names': ['Diane', 'Steve', 'Dylan', 'Landon'], 'number_of_children': 2, 'children': [{'name': 'Dylan', 'age': 5, 'favorite_color': 'black', 'nickname': 'Dillybeans', 'loves': 'Super Mario'}, {'name': 'Landon', 'age': 2, 'favorite_color': 'blue', 'nickname': 'Landybean', 'loves': 'trucks'}]}\n",
            "{'family_name': 'Agulnick', 'num_people': 5, 'local': False, 'city': 'Newton, MA', 'date_established': 1987, 'names': ['Ellen', 'Mark', 'Diane', 'Joshua', 'Allison'], 'number_of_children': 3, 'children': [{'name': 'Diane', 'age': 31, 'favorite_color': 'pink', 'nickname': 'Dini', 'loves': 'unicorns'}, {'name': 'Joshua', 'age': 28, 'favorite_color': 'red', 'nickname': 'Joshie', 'loves': 'Super Mario'}, {'name': 'Allison', 'age': 26, 'favorite_color': 'purple', 'nickname': 'Alli', 'loves': 'candy'}]}\n",
            "{'family_name': 'Agulnick', 'num_people': 5, 'local': False, 'city': 'Newton, MA', 'date_established': 1987, 'names': ['Ellen', 'Mark', 'Diane', 'Joshua', 'Allison'], 'number_of_children': 3, 'children': [{'name': 'Diane', 'age': 31, 'favorite_color': 'pink', 'nickname': 'Dini', 'loves': 'unicorns'}, {'name': 'Joshua', 'age': 28, 'favorite_color': 'red', 'nickname': 'Joshie', 'loves': 'Super Mario'}, {'name': 'Allison', 'age': 26, 'favorite_color': 'purple', 'nickname': 'Alli', 'loves': 'candy'}]}\n"
          ]
        }
      ]
    },
    {
      "cell_type": "code",
      "source": [
        "def child_names_ages(my_family):\n",
        "\n",
        "    ### YOUR CODE HERE\n",
        "    child_ages = []\n",
        "\n",
        "    for unit in my_family:\n",
        "       # print(unit) not needed but used to make sure what you did was correct (method to evaluate code, you can comment out after bc it takes long to run and may crash output)\n",
        "# using print as opposed to display bc it condenses output to one line so if there is multiple families, it's hard to display huge sections with families\n",
        "        if unit['local'] == False: # Common problem, if something is true then do something\n",
        "         # print(unit)\n",
        "\n",
        "            for child in unit['children']: # child address each of the disctionaries in the list (unit['children'] is a list so child gives an element in a list)\n",
        "                name_and_age = (child['name'], child['age'])\n",
        "                child_ages.append(name_and_age) # append tuple to the child age list\n",
        "\n",
        "    return child_ages\n",
        "\n",
        "    pass    # comment out when writing code (although does it really matter?)\n",
        "\n",
        "child_names_ages(my_family)"
      ],
      "metadata": {
        "colab": {
          "base_uri": "https://localhost:8080/"
        },
        "id": "2rhyTpBacVjB",
        "outputId": "ade44ad2-6eee-4b5e-abc7-43645ac7367c"
      },
      "id": "2rhyTpBacVjB",
      "execution_count": null,
      "outputs": [
        {
          "output_type": "execute_result",
          "data": {
            "text/plain": [
              "[('Diane', 31), ('Joshua', 28), ('Allison', 26)]"
            ]
          },
          "metadata": {},
          "execution_count": 10
        }
      ]
    },
    {
      "cell_type": "markdown",
      "source": [
        "* Difficult 1-pt\n",
        "  * 7:41PM\n",
        "  * something about reverse order"
      ],
      "metadata": {
        "id": "e9Ypb9GUdNFV"
      },
      "id": "e9Ypb9GUdNFV"
    },
    {
      "cell_type": "markdown",
      "id": "0edd3e04",
      "metadata": {
        "id": "0edd3e04"
      },
      "source": [
        "### Q3. Which child (or children) loves Super Mario?\n",
        "\n",
        "### Return a list of the name(s) of these children."
      ]
    },
    {
      "cell_type": "code",
      "execution_count": null,
      "id": "9cc683ec",
      "metadata": {
        "id": "9cc683ec"
      },
      "outputs": [],
      "source": [
        "\"\"\"\n",
        "create an empty list to hold the child names\n",
        "\n",
        "Loop over the 2 families\n",
        "\n",
        "      loop over the children dictionary in each family unit (children dictionary key)\n",
        "\n",
        "            if the value for the 'loves' key is \"Super Mario\"\n",
        "\n",
        "                  create the tuple with the chile name and child age values\n",
        "                  append each child name  to the list\n",
        "\n",
        "return the list\n",
        "\"\"\""
      ]
    },
    {
      "cell_type": "code",
      "execution_count": null,
      "id": "7abe2424",
      "metadata": {
        "id": "7abe2424"
      },
      "outputs": [],
      "source": [
        "def loves_mario (my_family):\n",
        "\n",
        "    #### YOUR CODE HERE\n",
        "#     loves_Mario_child = []\n",
        "\n",
        "#     for unit in my_family:\n",
        "\n",
        "#         for child in unit['children']:\n",
        "\n",
        "#             if child['loves'] == 'Super Mario':\n",
        "\n",
        "#                 loves_Mario_child.append(child['name'])\n",
        "\n",
        "#     return loves_Mario_child\n",
        "\n",
        "    pass # comment out when writing code (although does it really matter?)\n",
        "\n",
        "answer = loves_mario(my_family)\n",
        "# uncomment the below after writing the function\n",
        "# print(answer)\n",
        "\n",
        "# for name in answer:\n",
        "#     print (f\"{name} really loves Super Mario.\")"
      ]
    },
    {
      "cell_type": "code",
      "source": [
        "def loves_mario (my_family):\n",
        "\n",
        "    ### YOUR CODE HERE\n",
        "    loves_Mario_child = []\n",
        "\n",
        "    for unit in my_family:\n",
        "\n",
        "        for child in unit['children']:\n",
        "\n",
        "            if child['loves'] == 'Super Mario':\n",
        "\n",
        "                loves_Mario_child.append(child['name'])\n",
        "\n",
        "    return loves_Mario_child\n",
        "\n",
        "    pass # comment out when writing code (although does it really matter?)\n",
        "# 'pass' is a key word creating a placeholder for future code to prevent errors (empty code bc havent written anything in it yet)\n",
        "answer = loves_mario(my_family)\n",
        "# uncomment the below after writing the function\n",
        "print(answer)\n",
        "\n",
        "for name in answer:\n",
        "    print (f\"{name} really loves Super Mario.\")"
      ],
      "metadata": {
        "colab": {
          "base_uri": "https://localhost:8080/"
        },
        "id": "uQoZgCDYd28B",
        "outputId": "2a481d98-363e-47f1-8892-da34b4309030"
      },
      "id": "uQoZgCDYd28B",
      "execution_count": null,
      "outputs": [
        {
          "output_type": "stream",
          "name": "stdout",
          "text": [
            "['Dylan', 'Joshua']\n",
            "Dylan really loves Super Mario.\n",
            "Joshua really loves Super Mario.\n"
          ]
        }
      ]
    },
    {
      "cell_type": "code",
      "source": [
        "def loves_mario (my_family):\n",
        "\n",
        "\n",
        "    pass # comment out when writing code (although does it really matter?)\n"
      ],
      "metadata": {
        "id": "lhl5_JHWgG9j"
      },
      "id": "lhl5_JHWgG9j",
      "execution_count": null,
      "outputs": []
    },
    {
      "cell_type": "markdown",
      "source": [
        "* may be asked to print f strings for wach name in the output"
      ],
      "metadata": {
        "id": "hOu3anvNe5IE"
      },
      "id": "hOu3anvNe5IE"
    },
    {
      "cell_type": "markdown",
      "id": "b2c6d161",
      "metadata": {
        "id": "b2c6d161"
      },
      "source": [
        "## What are your questions on nested data structures?"
      ]
    },
    {
      "cell_type": "code",
      "execution_count": null,
      "id": "3a79c97b",
      "metadata": {
        "id": "3a79c97b"
      },
      "outputs": [],
      "source": []
    }
  ],
  "metadata": {
    "colab": {
      "provenance": [],
      "include_colab_link": true
    },
    "kernelspec": {
      "display_name": "Python 3 (ipykernel)",
      "language": "python",
      "name": "python3"
    },
    "language_info": {
      "codemirror_mode": {
        "name": "ipython",
        "version": 3
      },
      "file_extension": ".py",
      "mimetype": "text/x-python",
      "name": "python",
      "nbconvert_exporter": "python",
      "pygments_lexer": "ipython3",
      "version": "3.9.13"
    }
  },
  "nbformat": 4,
  "nbformat_minor": 5
}