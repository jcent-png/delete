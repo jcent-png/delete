{
  "cells": [
    {
      "cell_type": "markdown",
      "metadata": {
        "id": "view-in-github",
        "colab_type": "text"
      },
      "source": [
        "<a href=\"https://colab.research.google.com/github/jcent-png/delete/blob/main/5b_List_and_Dictionary_Comprehensions_2_2.ipynb\" target=\"_parent\"><img src=\"https://colab.research.google.com/assets/colab-badge.svg\" alt=\"Open In Colab\"/></a>"
      ]
    },
    {
      "cell_type": "markdown",
      "id": "b389798d",
      "metadata": {
        "id": "b389798d"
      },
      "source": [
        "# Comprehensions for Lists and Dicts"
      ]
    },
    {
      "cell_type": "markdown",
      "id": "0c45749d",
      "metadata": {
        "id": "0c45749d"
      },
      "source": [
        "## Quick Recall of Looping over Lists and Dicts"
      ]
    },
    {
      "cell_type": "markdown",
      "id": "d394674b",
      "metadata": {
        "id": "d394674b"
      },
      "source": [
        "### Iterate over a list, using a `for` loop, by element"
      ]
    },
    {
      "cell_type": "code",
      "execution_count": 1,
      "id": "e21f5dd8",
      "metadata": {
        "id": "e21f5dd8",
        "scrolled": true,
        "colab": {
          "base_uri": "https://localhost:8080/"
        },
        "outputId": "d316be67-0904-41d9-e742-144f617f95be"
      },
      "outputs": [
        {
          "output_type": "stream",
          "name": "stdout",
          "text": [
            "List Iteration\n",
            "msa\n",
            "cse\n",
            "6040\n"
          ]
        }
      ],
      "source": [
        "# Iterating over a list\n",
        "print(\"List Iteration\")\n",
        "\n",
        "course_list = [\"msa\", \"cse\", \"6040\"]\n",
        "\n",
        "for element in course_list:\n",
        "    print(element)"
      ]
    },
    {
      "cell_type": "markdown",
      "id": "06fb8ec5",
      "metadata": {
        "id": "06fb8ec5"
      },
      "source": [
        "### Iterate over a list, using a `for` loop, using a range() object"
      ]
    },
    {
      "cell_type": "code",
      "execution_count": 2,
      "id": "5c18b20c",
      "metadata": {
        "id": "5c18b20c",
        "colab": {
          "base_uri": "https://localhost:8080/"
        },
        "outputId": "61acc43b-ff74-4e8e-c814-620f2a79c499"
      },
      "outputs": [
        {
          "output_type": "stream",
          "name": "stdout",
          "text": [
            "0 msa\n",
            "1 cse\n",
            "2 6040\n"
          ]
        }
      ],
      "source": [
        "# output the index number\n",
        "\n",
        "for index in range(len(course_list)):\n",
        "    print(index, course_list[index])"
      ]
    },
    {
      "cell_type": "markdown",
      "id": "4d6e1b89",
      "metadata": {
        "id": "4d6e1b89"
      },
      "source": [
        "### Iterate over a dictionary, using a `for` loop and .items()"
      ]
    },
    {
      "cell_type": "code",
      "execution_count": 3,
      "id": "2b759d14",
      "metadata": {
        "id": "2b759d14",
        "colab": {
          "base_uri": "https://localhost:8080/"
        },
        "outputId": "a78789aa-f385-4ba4-d288-f8db1b2aebe2"
      },
      "outputs": [
        {
          "output_type": "stream",
          "name": "stdout",
          "text": [
            "\n",
            "Dictionary Iteration\n",
            "0 : msa\n",
            "1 : cse\n",
            "2 : 6040\n"
          ]
        }
      ],
      "source": [
        "# Iterating over dictionary\n",
        "print(\"\\nDictionary Iteration\")\n",
        "\n",
        "course_dict = dict()\n",
        "\n",
        "course_dict['0'] = \"msa\"\n",
        "course_dict['1'] = \"cse\"\n",
        "course_dict['2'] = '6040'\n",
        "\n",
        "for k,v in course_dict.items() :\n",
        "    print(\"{} : {}\".format(k,v))"
      ]
    },
    {
      "cell_type": "markdown",
      "id": "eb5790df",
      "metadata": {
        "id": "eb5790df"
      },
      "source": [
        "# Comprehensions in Python"
      ]
    },
    {
      "cell_type": "markdown",
      "id": "8a994dea",
      "metadata": {
        "id": "8a994dea"
      },
      "source": [
        "1. List Comprehension\n",
        "2. Dictionary Comprehension"
      ]
    },
    {
      "cell_type": "markdown",
      "id": "59485cbe",
      "metadata": {
        "id": "59485cbe"
      },
      "source": [
        "## This material is VERY DENSE!!\n",
        "\n",
        "#### Do not be discouraged if you don't completely understand the below after the first pass tonight. Repetition and practice will be what you will need to do, in order to become proficient."
      ]
    },
    {
      "cell_type": "markdown",
      "id": "90eb44dc",
      "metadata": {
        "id": "90eb44dc"
      },
      "source": [
        "## Comprehensions Pros and Cons\n",
        "\n",
        "#### Using loops is okay, and you don't have to use comprehensions. However, it is worth understanding comprehensions because they have their own benefits.\n",
        "\n",
        "#### Pros:\n",
        "-- Generally faster than for loops, especially for large datasets.\n",
        "\n",
        "-- Takes less code to write and fits in a smaller space than a for loop.\n",
        "\n",
        "#### Cons:\n",
        "-- Can be less legible in certain situations.\n",
        "\n",
        "-- Can be harder to implement for complicated operations in for loops.\n",
        "\n",
        "***************************************************\n",
        "\n",
        "As you progress through the course, you will see problem solutions that use comprehensions whenever possible which will enable you to wrap your head around them.\n",
        "\n",
        "#### Advice – Always pause and think if you can use a comprehension instead of a loop. Practice, Practice, Practice!!!"
      ]
    },
    {
      "cell_type": "markdown",
      "id": "0cb7233f",
      "metadata": {
        "id": "0cb7233f"
      },
      "source": [
        "### 1. List Comprehension"
      ]
    },
    {
      "cell_type": "markdown",
      "id": "df482063",
      "metadata": {
        "id": "df482063"
      },
      "source": [
        "A list comprehension consists of the following parts -\n",
        "1. An Input Sequence.\n",
        "2. A Variable representing members of the input sequence.\n",
        "3. An optional Conditional Expression.\n",
        "4. An Output Expression producing elements of the output list from members of the Input Sequence that satisfy the predicate."
      ]
    },
    {
      "cell_type": "markdown",
      "id": "5e6f2c17",
      "metadata": {
        "id": "5e6f2c17"
      },
      "source": [
        "![list_format.png](https://github.com/gt-cse-6040/bootcamp/blob/main/Module%200/Session%206/list_format.png?raw=1)"
      ]
    },
    {
      "cell_type": "code",
      "execution_count": 4,
      "id": "a673591c",
      "metadata": {
        "id": "a673591c",
        "colab": {
          "base_uri": "https://localhost:8080/",
          "height": 34
        },
        "outputId": "950330d7-e390-4dab-f739-848c5c12065f"
      },
      "outputs": [
        {
          "output_type": "display_data",
          "data": {
            "text/plain": [
              "[0, 1, 2, 3, 4, 5, 6, 7, 8, 9]"
            ]
          },
          "metadata": {}
        }
      ],
      "source": [
        "# loop format -- recall from above\n",
        "range_list = []\n",
        "for x in range(10):\n",
        "    range_list.append(x)\n",
        "display(range_list)"
      ]
    },
    {
      "cell_type": "code",
      "execution_count": 5,
      "id": "408d1810",
      "metadata": {
        "id": "408d1810",
        "colab": {
          "base_uri": "https://localhost:8080/",
          "height": 34
        },
        "outputId": "1b57be77-7fd1-46fc-8c56-3b383ae998de"
      },
      "outputs": [
        {
          "output_type": "display_data",
          "data": {
            "text/plain": [
              "[0, 1, 2, 3, 4, 5, 6, 7, 8, 9]"
            ]
          },
          "metadata": {}
        }
      ],
      "source": [
        "# comprehension format\n",
        "range_list_comp = [x for x in range(10)]\n",
        "display(range_list_comp)"
      ]
    },
    {
      "cell_type": "markdown",
      "id": "dacd23d5",
      "metadata": {
        "id": "dacd23d5"
      },
      "source": [
        "#### Now let's add a level of complexity.\n",
        "\n",
        "Let's create a list of mixed integers and strings, and only output a result if the input is an integer."
      ]
    },
    {
      "cell_type": "code",
      "execution_count": 6,
      "id": "69bfcb83",
      "metadata": {
        "id": "69bfcb83",
        "colab": {
          "base_uri": "https://localhost:8080/"
        },
        "outputId": "cc937bf7-1851-4483-9a94-318921562870"
      },
      "outputs": [
        {
          "output_type": "execute_result",
          "data": {
            "text/plain": [
              "[1, '4', 9, 'a', 0, 4]"
            ]
          },
          "metadata": {},
          "execution_count": 6
        }
      ],
      "source": [
        "a_list = [1, '4', 9, 'a', 0, 4]\n",
        "a_list"
      ]
    },
    {
      "cell_type": "code",
      "execution_count": 7,
      "id": "44853acc",
      "metadata": {
        "id": "44853acc",
        "colab": {
          "base_uri": "https://localhost:8080/"
        },
        "outputId": "1570a62a-bdb8-4eb9-ff1b-3d0bf557f67e"
      },
      "outputs": [
        {
          "output_type": "execute_result",
          "data": {
            "text/plain": [
              "[1, 81, 0, 16]"
            ]
          },
          "metadata": {},
          "execution_count": 7
        }
      ],
      "source": [
        "sq_list = []\n",
        "for e in a_list:\n",
        "    if(type(e) == int):\n",
        "        sq_list.append(e*e)\n",
        "\n",
        "sq_list"
      ]
    },
    {
      "cell_type": "markdown",
      "id": "ac85630d",
      "metadata": {
        "id": "ac85630d"
      },
      "source": [
        "![Screen%20Shot%202022-08-27%20at%206.23.51%20PM.png](https://github.com/gt-cse-6040/bootcamp/blob/main/Module%200/Session%206/list_format_2.png?raw=1)"
      ]
    },
    {
      "cell_type": "code",
      "execution_count": 8,
      "id": "0b8beb51",
      "metadata": {
        "id": "0b8beb51",
        "colab": {
          "base_uri": "https://localhost:8080/"
        },
        "outputId": "c8552d7f-4785-43ab-ca69-60f6fb9cc86f"
      },
      "outputs": [
        {
          "output_type": "execute_result",
          "data": {
            "text/plain": [
              "[1, '4', 9, 'a', 0, 4]"
            ]
          },
          "metadata": {},
          "execution_count": 8
        }
      ],
      "source": [
        "a_list"
      ]
    },
    {
      "cell_type": "code",
      "execution_count": 9,
      "id": "ce438b10",
      "metadata": {
        "id": "ce438b10",
        "colab": {
          "base_uri": "https://localhost:8080/"
        },
        "outputId": "7d4cc39b-dff3-4238-d525-2a942a6e3608"
      },
      "outputs": [
        {
          "output_type": "stream",
          "name": "stdout",
          "text": [
            "[1, 81, 0, 16]\n"
          ]
        }
      ],
      "source": [
        "squared_ints = [e**2 for e in a_list if type(e) == int]\n",
        "print(squared_ints)"
      ]
    },
    {
      "cell_type": "markdown",
      "id": "51287966",
      "metadata": {
        "id": "51287966"
      },
      "source": [
        "#### Another example"
      ]
    },
    {
      "cell_type": "code",
      "execution_count": 10,
      "id": "5dbb5ec4",
      "metadata": {
        "id": "5dbb5ec4"
      },
      "outputs": [],
      "source": [
        "my_list = [1,2,3,4,5,6,7,8,9,10]"
      ]
    },
    {
      "cell_type": "code",
      "execution_count": 11,
      "id": "6382d698",
      "metadata": {
        "id": "6382d698",
        "colab": {
          "base_uri": "https://localhost:8080/"
        },
        "outputId": "372f0c66-822a-4651-a8f3-9504f9dd2450"
      },
      "outputs": [
        {
          "output_type": "execute_result",
          "data": {
            "text/plain": [
              "[2, 4, 6, 8, 10]"
            ]
          },
          "metadata": {},
          "execution_count": 11
        }
      ],
      "source": [
        "# using a loop\n",
        "new_list_loop = []\n",
        "for number in my_list:\n",
        "    # using modulus operator, which returns the remainder of a division\n",
        "    # so this statement only returns even numbers\n",
        "    if number % 2 == 0:\n",
        "        new_list_loop.append(number)\n",
        "\n",
        "new_list_loop"
      ]
    },
    {
      "cell_type": "code",
      "execution_count": 12,
      "id": "eeeab2f3",
      "metadata": {
        "id": "eeeab2f3",
        "colab": {
          "base_uri": "https://localhost:8080/"
        },
        "outputId": "d075dcfa-a639-4624-b4d6-4beb436dee9a"
      },
      "outputs": [
        {
          "output_type": "execute_result",
          "data": {
            "text/plain": [
              "[2, 4, 6, 8, 10]"
            ]
          },
          "metadata": {},
          "execution_count": 12
        }
      ],
      "source": [
        "# list comprehension\n",
        "new_list_comp = [number for number in my_list if number % 2 == 0]\n",
        "new_list_comp"
      ]
    },
    {
      "cell_type": "markdown",
      "source": [
        "* COnditional moves to the front bc something depends on conditional statement?"
      ],
      "metadata": {
        "id": "hyWbqbaDj-tH"
      },
      "id": "hyWbqbaDj-tH"
    },
    {
      "cell_type": "code",
      "execution_count": 13,
      "id": "12a937d5",
      "metadata": {
        "id": "12a937d5",
        "colab": {
          "base_uri": "https://localhost:8080/"
        },
        "outputId": "4ad986da-ab01-4046-f94d-c5b2c8da6fbf"
      },
      "outputs": [
        {
          "output_type": "execute_result",
          "data": {
            "text/plain": [
              "[15, 2, 15, 4, 15, 6, 15, 8, 15, 10]"
            ]
          },
          "metadata": {},
          "execution_count": 13
        }
      ],
      "source": [
        "# loop using if else\n",
        "new_list_loop_2 = []\n",
        "for number in my_list:\n",
        "    # using modulus operator, which returns the remainder of a division\n",
        "    # so this statement only returns even numbers\n",
        "    if number % 2 == 0:\n",
        "        new_list_loop_2.append(number)\n",
        "    else:\n",
        "        new_list_loop_2.append(15)\n",
        "\n",
        "new_list_loop_2"
      ]
    },
    {
      "cell_type": "code",
      "execution_count": 14,
      "id": "f2a8474d",
      "metadata": {
        "id": "f2a8474d",
        "colab": {
          "base_uri": "https://localhost:8080/"
        },
        "outputId": "21917854-5fcc-4c49-9150-59a42df66086"
      },
      "outputs": [
        {
          "output_type": "execute_result",
          "data": {
            "text/plain": [
              "[15, 2, 15, 4, 15, 6, 15, 8, 15, 10]"
            ]
          },
          "metadata": {},
          "execution_count": 14
        }
      ],
      "source": [
        "new_list_1 = [number if number % 2 == 0 else 15 for number in my_list ]\n",
        "new_list_1"
      ]
    },
    {
      "cell_type": "code",
      "execution_count": 15,
      "id": "b0682d8d",
      "metadata": {
        "id": "b0682d8d",
        "colab": {
          "base_uri": "https://localhost:8080/"
        },
        "outputId": "a26b5849-eaa6-4328-cc8e-821fcad7f118"
      },
      "outputs": [
        {
          "output_type": "execute_result",
          "data": {
            "text/plain": [
              "['PINK', 'WHITE', 'BLUE', 'BLACK', 'PURPLE']"
            ]
          },
          "metadata": {},
          "execution_count": 15
        }
      ],
      "source": [
        "# string function in the comprehension\n",
        "colors = [\"pink\", \"white\", \"blue\", \"black\", \"purple\"]\n",
        "[color.upper() for color in colors]"
      ]
    },
    {
      "cell_type": "markdown",
      "id": "9ae15e01",
      "metadata": {
        "id": "9ae15e01"
      },
      "source": [
        "#### What if we want to take a list of names and change their format to be last name, first name?\n",
        "\n",
        "Simple two step process, using list comprehensions. Note that there are `many ways` you can perform this operation, and we are just showing a simple way, to illustrate using comprehensions."
      ]
    },
    {
      "cell_type": "code",
      "execution_count": 16,
      "id": "ce28c02e",
      "metadata": {
        "id": "ce28c02e"
      },
      "outputs": [],
      "source": [
        "# list of names\n",
        "presidents_usa = [\"George Washington\", \"John Adams\",\"Thomas Jefferson\",\"James Madison\",\"James Monroe\",\"Andrew Jackson\"]"
      ]
    },
    {
      "cell_type": "code",
      "execution_count": 17,
      "id": "eb8047d1",
      "metadata": {
        "id": "eb8047d1",
        "colab": {
          "base_uri": "https://localhost:8080/"
        },
        "outputId": "cfa0cd3c-4414-4f86-9a79-7a237718e333"
      },
      "outputs": [
        {
          "output_type": "execute_result",
          "data": {
            "text/plain": [
              "[['George', 'Washington'],\n",
              " ['John', 'Adams'],\n",
              " ['Thomas', 'Jefferson'],\n",
              " ['James', 'Madison'],\n",
              " ['James', 'Monroe'],\n",
              " ['Andrew', 'Jackson']]"
            ]
          },
          "metadata": {},
          "execution_count": 17
        }
      ],
      "source": [
        "# divide the names into first and last name elements\n",
        "split_names = [name.split(\" \") for name in presidents_usa]\n",
        "split_names"
      ]
    },
    {
      "cell_type": "markdown",
      "id": "9ff216b7",
      "metadata": {
        "id": "9ff216b7"
      },
      "source": [
        "#### Now let's put them back together, in a last name, first name format"
      ]
    },
    {
      "cell_type": "code",
      "execution_count": 18,
      "id": "db71fc15",
      "metadata": {
        "id": "db71fc15",
        "colab": {
          "base_uri": "https://localhost:8080/"
        },
        "outputId": "abc33e43-d1f7-4c0f-839b-d196cb3eb739"
      },
      "outputs": [
        {
          "output_type": "execute_result",
          "data": {
            "text/plain": [
              "['Washington, George',\n",
              " 'Adams, John',\n",
              " 'Jefferson, Thomas',\n",
              " 'Madison, James',\n",
              " 'Monroe, James',\n",
              " 'Jackson, Andrew']"
            ]
          },
          "metadata": {},
          "execution_count": 18
        }
      ],
      "source": [
        "swapped_list = [split_name[1] + \", \" + split_name[0] for split_name in split_names]\n",
        "swapped_list"
      ]
    },
    {
      "cell_type": "markdown",
      "id": "2a9e5bc0",
      "metadata": {
        "id": "2a9e5bc0"
      },
      "source": [
        "Let's now try to make this matrix using comprehensions. It will need a nested comprehension\n",
        "![Screen%20Shot%202022-08-27%20at%206.35.38%20PM.png](https://github.com/gt-cse-6040/bootcamp/blob/main/Module%200/Session%206/matrix.png?raw=1)"
      ]
    },
    {
      "cell_type": "code",
      "execution_count": 19,
      "id": "c34440e5",
      "metadata": {
        "id": "c34440e5"
      },
      "outputs": [],
      "source": [
        "identity_matrix = [ [ 1 if item_idx == row_idx else 0 for item_idx in range(0, 3) ] for row_idx in range(0, 3) ]"
      ]
    },
    {
      "cell_type": "code",
      "execution_count": 20,
      "id": "5d7d0ae1",
      "metadata": {
        "id": "5d7d0ae1",
        "colab": {
          "base_uri": "https://localhost:8080/"
        },
        "outputId": "bf61cee7-3cf0-4ca6-b850-5cfec7ebd02a"
      },
      "outputs": [
        {
          "output_type": "execute_result",
          "data": {
            "text/plain": [
              "[[1, 0, 0], [0, 1, 0], [0, 0, 1]]"
            ]
          },
          "metadata": {},
          "execution_count": 20
        }
      ],
      "source": [
        "identity_matrix"
      ]
    },
    {
      "cell_type": "markdown",
      "id": "4473ecb0",
      "metadata": {
        "id": "4473ecb0"
      },
      "source": [
        "### 2. Dictionary Comprehension"
      ]
    },
    {
      "cell_type": "markdown",
      "id": "9dc72bff",
      "metadata": {
        "id": "9dc72bff"
      },
      "source": [
        "![dict_comp_format_2.png](https://github.com/gt-cse-6040/bootcamp/blob/main/Module%200/Session%206/dict_comp_format_2.png?raw=1)"
      ]
    },
    {
      "cell_type": "markdown",
      "id": "98718f75",
      "metadata": {
        "id": "98718f75"
      },
      "source": [
        "#### Let's look at an example, using a single variable to create the key: value pair."
      ]
    },
    {
      "cell_type": "code",
      "execution_count": 21,
      "id": "4d51c8f9",
      "metadata": {
        "id": "4d51c8f9",
        "colab": {
          "base_uri": "https://localhost:8080/"
        },
        "outputId": "6581c4b2-e728-41b0-ab7b-723ec7b53985"
      },
      "outputs": [
        {
          "output_type": "execute_result",
          "data": {
            "text/plain": [
              "{1: 1, 2: 4, 3: 9, 4: 16, 5: 25, 6: 36, 7: 49, 8: 64, 9: 81, 10: 100}"
            ]
          },
          "metadata": {},
          "execution_count": 21
        }
      ],
      "source": [
        "# create dictionary using for loop\n",
        "loop_dict = {}  # create empty dict\n",
        "for num in range(1,11):\n",
        "    loop_dict[num] = num*num\n",
        "\n",
        "loop_dict"
      ]
    },
    {
      "cell_type": "markdown",
      "id": "f6318a3d",
      "metadata": {
        "id": "f6318a3d"
      },
      "source": [
        "![dict_comp_format.png](https://github.com/gt-cse-6040/bootcamp/blob/main/Module%200/Session%206/dict_comp_format.png?raw=1)"
      ]
    },
    {
      "cell_type": "code",
      "execution_count": 22,
      "id": "c5332987",
      "metadata": {
        "id": "c5332987",
        "colab": {
          "base_uri": "https://localhost:8080/"
        },
        "outputId": "39c0de4b-5b53-4c19-f5e5-69e3876aca6d"
      },
      "outputs": [
        {
          "output_type": "execute_result",
          "data": {
            "text/plain": [
              "{1: 1, 2: 4, 3: 9, 4: 16, 5: 25, 6: 36, 7: 49, 8: 64, 9: 81, 10: 100}"
            ]
          },
          "metadata": {},
          "execution_count": 22
        }
      ],
      "source": [
        "comp_dict = {num: num*num for num in range(1,11)}\n",
        "comp_dict"
      ]
    },
    {
      "cell_type": "markdown",
      "id": "9d0f31a8",
      "metadata": {
        "id": "9d0f31a8"
      },
      "source": [
        "#### What about dictionary comprehension with an if statement?\n",
        "\n",
        "![dict_comp_format_3.png](https://github.com/gt-cse-6040/bootcamp/blob/main/Module%200/Session%206/dict_comp_format_3.png?raw=1)"
      ]
    },
    {
      "cell_type": "code",
      "execution_count": 23,
      "id": "5faf82e6",
      "metadata": {
        "id": "5faf82e6"
      },
      "outputs": [],
      "source": [
        "persons = [\n",
        "    {\n",
        "        'name': 'Vuduc',\n",
        "        'age': 40,\n",
        "        'title': 'Data Scientist'\n",
        "    },\n",
        "    {\n",
        "        'name': 'Sokol',\n",
        "        'age': 45,\n",
        "        'title': 'Data Engineer'\n",
        "    },\n",
        "    {\n",
        "        'name': 'Wooley',\n",
        "        'age': 43,\n",
        "        'title': 'Program Director'\n",
        "    }\n",
        "]"
      ]
    },
    {
      "cell_type": "code",
      "execution_count": 24,
      "id": "c49d4127",
      "metadata": {
        "id": "c49d4127"
      },
      "outputs": [],
      "source": [
        "# use a loop to create the dictionary\n",
        "data_employees_loop = {}\n",
        "for p in persons:\n",
        "    if 'Data' in p['title']:\n",
        "        data_employees_loop[p['name']] = p['title']\n",
        "#     else:\n",
        "#         print(p['name'])"
      ]
    },
    {
      "cell_type": "code",
      "execution_count": 25,
      "id": "234d9d2c",
      "metadata": {
        "id": "234d9d2c",
        "colab": {
          "base_uri": "https://localhost:8080/"
        },
        "outputId": "fd0f3057-5b8d-49ce-ffcc-55cfa8bb0643"
      },
      "outputs": [
        {
          "output_type": "execute_result",
          "data": {
            "text/plain": [
              "{'Vuduc': 'Data Scientist', 'Sokol': 'Data Engineer'}"
            ]
          },
          "metadata": {},
          "execution_count": 25
        }
      ],
      "source": [
        "data_employees_loop"
      ]
    },
    {
      "cell_type": "code",
      "execution_count": 26,
      "id": "07e8ec51",
      "metadata": {
        "id": "07e8ec51"
      },
      "outputs": [],
      "source": [
        "# create using dictionary comprehension\n",
        "data_employees_comprehension = {p['name']:p['title'] for p in persons if 'Data' in p['title']}"
      ]
    },
    {
      "cell_type": "code",
      "execution_count": 27,
      "id": "23151da1",
      "metadata": {
        "id": "23151da1",
        "colab": {
          "base_uri": "https://localhost:8080/"
        },
        "outputId": "f7f188f1-929a-4063-be56-cc867ca6d1ae"
      },
      "outputs": [
        {
          "output_type": "execute_result",
          "data": {
            "text/plain": [
              "{'Vuduc': 'Data Scientist', 'Sokol': 'Data Engineer'}"
            ]
          },
          "metadata": {},
          "execution_count": 27
        }
      ],
      "source": [
        "data_employees_comprehension"
      ]
    },
    {
      "cell_type": "markdown",
      "id": "335c7783",
      "metadata": {
        "id": "335c7783"
      },
      "source": [
        "### What are your questions on list and dictionary comprehensions?"
      ]
    }
  ],
  "metadata": {
    "colab": {
      "provenance": [],
      "include_colab_link": true
    },
    "kernelspec": {
      "display_name": "Python 3 (ipykernel)",
      "language": "python",
      "name": "python3"
    },
    "language_info": {
      "codemirror_mode": {
        "name": "ipython",
        "version": 3
      },
      "file_extension": ".py",
      "mimetype": "text/x-python",
      "name": "python",
      "nbconvert_exporter": "python",
      "pygments_lexer": "ipython3",
      "version": "3.9.13"
    }
  },
  "nbformat": 4,
  "nbformat_minor": 5
}