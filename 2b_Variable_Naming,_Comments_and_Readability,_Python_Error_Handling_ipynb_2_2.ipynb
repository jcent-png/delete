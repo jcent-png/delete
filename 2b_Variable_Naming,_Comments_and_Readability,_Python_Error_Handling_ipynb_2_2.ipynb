{
  "cells": [
    {
      "cell_type": "markdown",
      "metadata": {
        "id": "view-in-github",
        "colab_type": "text"
      },
      "source": [
        "<a href=\"https://colab.research.google.com/github/jcent-png/delete/blob/main/2b_Variable_Naming%2C_Comments_and_Readability%2C_Python_Error_Handling_ipynb_2_2.ipynb\" target=\"_parent\"><img src=\"https://colab.research.google.com/assets/colab-badge.svg\" alt=\"Open In Colab\"/></a>"
      ]
    },
    {
      "cell_type": "markdown",
      "id": "945c9b8f",
      "metadata": {
        "id": "945c9b8f"
      },
      "source": [
        "# Naming best practices and code readability / Error Handling\n",
        "2 types of errors\n",
        "* error that occurs that when python doesn't run code & learning how to read\n",
        "* code runs but doesn't produce correct answer in test case variable & learning how to trouble shoot (in **test case variables trouble shoot** quiz/vids)\n",
        "  * KNOW THE TEST CASE VARIABLES WELL FOR TROUBLE SHOOTING"
      ]
    },
    {
      "cell_type": "markdown",
      "id": "4a9bd493",
      "metadata": {
        "id": "4a9bd493"
      },
      "source": [
        "### When writing code in Python, it’s important to make sure that your code can be easily understood by others. Below are the 3 ways to do this:\n",
        "\n",
        "1. Giving variables obvious names.\n",
        "\n",
        "2. Defining explicit functions.\n",
        "\n",
        "3. Organizing your code.\n",
        "\n",
        "#### Comment very liberally.\n",
        "1. What am I doing at each step? Why am I doing it?\n",
        "\n",
        "2. What is my thought process here?\n",
        "\n",
        "#### Naming variables.\n",
        "1. Use variable names with meaning (outer_loop_counter, inner_loop_counter, return_list).\n",
        "\n",
        "2. Use a consistent naming convention (LoopCounter, loop_counter).\n",
        "\n",
        "#### Use spacing and line breaks to improve readability."
      ]
    },
    {
      "cell_type": "markdown",
      "source": [
        "* So you remember what you did when you come back to the code / for others to read\n",
        "* variable names without _ called \"Cammel case\"\n",
        "  * Ex. LoopCounter"
      ],
      "metadata": {
        "id": "PB_BamPLOfD3"
      },
      "id": "PB_BamPLOfD3"
    },
    {
      "cell_type": "markdown",
      "id": "56e6eb88",
      "metadata": {
        "id": "56e6eb88"
      },
      "source": [
        "### Bad way to name variables"
      ]
    },
    {
      "cell_type": "code",
      "execution_count": null,
      "id": "d773e7ed",
      "metadata": {
        "id": "d773e7ed",
        "colab": {
          "base_uri": "https://localhost:8080/"
        },
        "outputId": "36a3bd94-8b02-42d0-96ac-0d25d121cde7"
      },
      "outputs": [
        {
          "output_type": "stream",
          "name": "stdout",
          "text": [
            "b\n",
            "a\n",
            "n\n",
            "a\n",
            "n\n",
            "a\n",
            "s\n"
          ]
        }
      ],
      "source": [
        "# let's start with a string\n",
        "string = \"bananas\"\n",
        "\n",
        "# this loops over the string and outputs each letter.\n",
        "for i in string:\n",
        "    print(i)"
      ]
    },
    {
      "cell_type": "code",
      "execution_count": null,
      "id": "53249dd2",
      "metadata": {
        "id": "53249dd2"
      },
      "outputs": [],
      "source": [
        "string1 = 'butter'\n",
        "string2 = 'peppers'\n",
        "string3 = 'ham'"
      ]
    },
    {
      "cell_type": "code",
      "execution_count": null,
      "id": "883683de",
      "metadata": {
        "id": "883683de",
        "colab": {
          "base_uri": "https://localhost:8080/",
          "height": 71
        },
        "outputId": "d3fcad5a-b3f0-4333-a170-99f96a967fa5"
      },
      "outputs": [
        {
          "output_type": "display_data",
          "data": {
            "text/plain": [
              "'butter'"
            ],
            "application/vnd.google.colaboratory.intrinsic+json": {
              "type": "string"
            }
          },
          "metadata": {}
        },
        {
          "output_type": "display_data",
          "data": {
            "text/plain": [
              "'peppers'"
            ],
            "application/vnd.google.colaboratory.intrinsic+json": {
              "type": "string"
            }
          },
          "metadata": {}
        },
        {
          "output_type": "display_data",
          "data": {
            "text/plain": [
              "'ham'"
            ],
            "application/vnd.google.colaboratory.intrinsic+json": {
              "type": "string"
            }
          },
          "metadata": {}
        }
      ],
      "source": [
        "display(string1)\n",
        "display(string2)\n",
        "display(string3)"
      ]
    },
    {
      "cell_type": "markdown",
      "source": [
        "* Issue: dont know what string 1 is without going back and looking"
      ],
      "metadata": {
        "id": "WIWVZAvIPVb7"
      },
      "id": "WIWVZAvIPVb7"
    },
    {
      "cell_type": "markdown",
      "id": "0c3e5d42",
      "metadata": {
        "id": "0c3e5d42"
      },
      "source": [
        "### A better way"
      ]
    },
    {
      "cell_type": "code",
      "execution_count": null,
      "id": "5b052f22",
      "metadata": {
        "id": "5b052f22"
      },
      "outputs": [],
      "source": [
        "str_fruit = 'bananas'\n",
        "str_cooking_oil = 'butter'\n",
        "str_vegetable = 'peppers'\n",
        "str_meat = 'ham'"
      ]
    },
    {
      "cell_type": "code",
      "execution_count": null,
      "id": "bcf4f6e8",
      "metadata": {
        "id": "bcf4f6e8",
        "colab": {
          "base_uri": "https://localhost:8080/",
          "height": 35
        },
        "outputId": "a692f812-0a6a-46b8-c30a-30f6d9c587da"
      },
      "outputs": [
        {
          "output_type": "display_data",
          "data": {
            "text/plain": [
              "'bananas'"
            ],
            "application/vnd.google.colaboratory.intrinsic+json": {
              "type": "string"
            }
          },
          "metadata": {}
        }
      ],
      "source": [
        "display(str_fruit)"
      ]
    },
    {
      "cell_type": "markdown",
      "id": "2b30696f",
      "metadata": {
        "id": "2b30696f"
      },
      "source": [
        "### Note the naming convention that we are using. This is a good one for students to use.\n",
        "\n",
        "#### The first portion of the variable name is the data type (in this case string), and the latter portion of the variable name defines the topic/subject of the variable (in this case the type of food)."
      ]
    },
    {
      "cell_type": "markdown",
      "source": [
        "* variable naming best practices: data type_define subject"
      ],
      "metadata": {
        "id": "gdDPoZWBPeey"
      },
      "id": "gdDPoZWBPeey"
    },
    {
      "cell_type": "markdown",
      "id": "b73d24d5",
      "metadata": {
        "id": "b73d24d5"
      },
      "source": [
        "### Another option:  camelCase vs under_scores"
      ]
    },
    {
      "cell_type": "raw",
      "id": "a19bcede",
      "metadata": {
        "id": "a19bcede"
      },
      "source": [
        "if thisLooksAppealing:\n",
        "    youLikeCamelCase = True;\n",
        "    votePoll(camelCaseFormatting)\n",
        "\n",
        "\n",
        "elif this_looks_appealing:\n",
        "    you_like_underscores = True;\n",
        "    vote_poll(underscore_formatting)"
      ]
    },
    {
      "cell_type": "markdown",
      "id": "4abb82fb",
      "metadata": {
        "id": "4abb82fb"
      },
      "source": [
        "More details here - https://whatheco.de/2011/02/10/camelcase-vs-underscores-scientific-showdown/"
      ]
    },
    {
      "cell_type": "code",
      "execution_count": null,
      "id": "9656c299",
      "metadata": {
        "id": "9656c299"
      },
      "outputs": [],
      "source": [
        "# Define the above variables using Camel Case formatting\n",
        "strFruit = 'bananas'\n",
        "strCookingOil = 'butter'\n",
        "strVegetable = 'peppers'\n",
        "strMeat = 'ham'"
      ]
    },
    {
      "cell_type": "code",
      "execution_count": null,
      "id": "f35c9278",
      "metadata": {
        "id": "f35c9278",
        "colab": {
          "base_uri": "https://localhost:8080/",
          "height": 35
        },
        "outputId": "96de05c3-e185-4468-eb57-3467b9914618"
      },
      "outputs": [
        {
          "output_type": "display_data",
          "data": {
            "text/plain": [
              "'ham'"
            ],
            "application/vnd.google.colaboratory.intrinsic+json": {
              "type": "string"
            }
          },
          "metadata": {}
        }
      ],
      "source": [
        "display(strMeat)"
      ]
    },
    {
      "cell_type": "markdown",
      "id": "583668c1",
      "metadata": {
        "id": "583668c1"
      },
      "source": [
        "### Good naming and commenting"
      ]
    },
    {
      "cell_type": "markdown",
      "id": "52904607",
      "metadata": {
        "id": "52904607"
      },
      "source": [
        "#### As mentioned above, here are 3 good commenting practices for students to use:\n",
        "\n",
        "1. Giving variables obvious names\n",
        "2. Defining explicit functions\n",
        "3. Organizing your code"
      ]
    },
    {
      "cell_type": "markdown",
      "id": "ad0103cc",
      "metadata": {
        "id": "ad0103cc"
      },
      "source": [
        "### Different ways to comment in Python"
      ]
    },
    {
      "cell_type": "code",
      "execution_count": null,
      "id": "266c3985",
      "metadata": {
        "id": "266c3985"
      },
      "outputs": [],
      "source": [
        "# This is a comment aeih warjow naowr\n",
        "# You can use the keys crtl + / (in Windows) to comment single and multiple lines\n",
        "# In Mac, use the keys cmd + /"
      ]
    },
    {
      "cell_type": "code",
      "execution_count": null,
      "id": "43f0ef2e",
      "metadata": {
        "id": "43f0ef2e",
        "colab": {
          "base_uri": "https://localhost:8080/"
        },
        "outputId": "12141735-2a93-432e-fab2-d383463778ad"
      },
      "outputs": [
        {
          "output_type": "stream",
          "name": "stdout",
          "text": [
            "This will run.\n"
          ]
        }
      ],
      "source": [
        "print(\"This will run.\")  # Run this"
      ]
    },
    {
      "cell_type": "code",
      "execution_count": null,
      "id": "516f2d66",
      "metadata": {
        "id": "516f2d66"
      },
      "outputs": [],
      "source": [
        "def multiline_example():\n",
        "\n",
        "    # This is a pretty good example\n",
        "    # of how you can spread comments\n",
        "    # over multiple lines in Python\n",
        "\n",
        "    pass # the pass keyword tells Python to just continue on in its execution\n"
      ]
    },
    {
      "cell_type": "markdown",
      "id": "a40007d1",
      "metadata": {
        "id": "a40007d1"
      },
      "source": [
        "While the below cell gives you the multiline functionality, this isn’t technically a comment. It’s a string that’s not assigned to any variable, so it’s not called or referenced by your program. Still, since it’ll be ignored at runtime and won’t appear in the bytecode, it can effectively act as a comment.\n",
        "\n",
        "#### The below example is called a **docstring**. See this GeeksForGeeks article for a good \"deep dive\" into docstrings:  https://www.geeksforgeeks.org/python-docstrings/"
      ]
    },
    {
      "cell_type": "markdown",
      "source": [
        "* Docstring – used in SQL\n",
        "\n",
        "* \"\"\" \"\"\" (3 double quotes open and close)\n",
        "\n",
        "* Not assigned to variable, everything inside will be ignored by python and treated as comment"
      ],
      "metadata": {
        "id": "pbQIhNdSQy9D"
      },
      "id": "pbQIhNdSQy9D"
    },
    {
      "cell_type": "code",
      "execution_count": null,
      "id": "1afe3153",
      "metadata": {
        "id": "1afe3153"
      },
      "outputs": [],
      "source": [
        "def another_multiline_example():\n",
        "\n",
        "    \"\"\"\n",
        "    If I really hate pressing `enter` and\n",
        "    typing all those hash marks, I could\n",
        "    just do this instead\n",
        "\n",
        "    \"\"\"\n",
        "\n",
        "    pass # the pass keyword tells Python to just continue on in its execution"
      ]
    },
    {
      "cell_type": "markdown",
      "id": "bf824e06",
      "metadata": {
        "id": "bf824e06"
      },
      "source": [
        "### Writing comments for yourself, in the basic structure of a function\n",
        "\n",
        "#### A technique that we **HIGHLY RECOMMEND** is for students to **write out their pseudo code logic within the function**, before writing any actual code.\n",
        "* TO describe what youre doihng\n",
        "* Steps function will take"
      ]
    },
    {
      "cell_type": "code",
      "execution_count": null,
      "id": "96fb5946",
      "metadata": {
        "id": "96fb5946"
      },
      "outputs": [],
      "source": [
        "def get_top_city(prices):\n",
        "    # define an empty string that the function will return\n",
        "    str_top_city = ''\n",
        "\n",
        "    # Pseudocode that is the function logic\n",
        "    # For each price range, using a loop\n",
        "        # Get city searches in the price parameter that is passed in\n",
        "        # Count num times each city was searched\n",
        "        # Take most searched city and set the string to it\n",
        "        # return this top city\n",
        "\n",
        "    # don't worry about the loop structure, we will cover it in a future session\n",
        "    # this is the code that we write, based on the logic above\n",
        "    for price in prices:\n",
        "        #\n",
        "        #\n",
        "        #\n",
        "        pass\n",
        "\n",
        "    return str_top_city"
      ]
    },
    {
      "cell_type": "markdown",
      "id": "817cfe13",
      "metadata": {
        "id": "817cfe13"
      },
      "source": [
        "### Writing comments for others"
      ]
    },
    {
      "cell_type": "code",
      "execution_count": null,
      "id": "0438c7b6",
      "metadata": {
        "id": "0438c7b6"
      },
      "outputs": [],
      "source": [
        "# note that this is slightly different syntax in defining a function\n",
        "# the passed in parameter's function type is defined as a string\n",
        "# and the data type to return is defined as a float\n",
        "def sparsity_ratio(x: str) -> float:\n",
        "\n",
        "    \"\"\"\n",
        "    Return a float\n",
        "\n",
        "    We want to return the percentage of values in array that are zero or NaN\n",
        "    \"\"\"\n",
        "\n",
        "    pass"
      ]
    },
    {
      "cell_type": "markdown",
      "source": [
        "def sparsity_ratio(x: str) -> float:\n",
        "* x - variable\n",
        "* :str - string\n",
        "* -> will return float"
      ],
      "metadata": {
        "id": "tj7aha-4R7fH"
      },
      "id": "tj7aha-4R7fH"
    },
    {
      "cell_type": "markdown",
      "id": "cb4bd89e",
      "metadata": {
        "id": "cb4bd89e"
      },
      "source": [
        "### Note that, by using obvious naming conventions, we are able to remove unnecessary comments and reduce the length of the code as well!"
      ]
    },
    {
      "cell_type": "markdown",
      "id": "fb14a825",
      "metadata": {
        "id": "fb14a825"
      },
      "source": [
        "### How to practice commenting"
      ]
    },
    {
      "cell_type": "markdown",
      "id": "48fcd9e9",
      "metadata": {
        "id": "48fcd9e9"
      },
      "source": [
        "1. Start writing comments for yourself in your own code. Make it a point to include simple comments wherever they would be helpful for your (current and future) understanding.\n",
        "2. Add some clarity to complex functions, and put a docstring at the top of all your scripts.\n",
        "3. Go back and review old code that you’ve written. See where anything might not make sense, and clean up the code."
      ]
    },
    {
      "cell_type": "markdown",
      "id": "e5a250c1",
      "metadata": {
        "id": "e5a250c1"
      },
      "source": [
        "### Note the the below examples use `if..then` functionality.\n",
        "\n",
        "### This is basic programming knowledge that we expect the students to come into the class with, or to learn on their own.\n",
        "\n",
        "### We will not be teaching `if..then` functionality in the bootcamp.\n",
        "\n",
        "#### See this link if you need some help with `if..then` functionality:  https://www.geeksforgeeks.org/python-if-else/"
      ]
    },
    {
      "cell_type": "markdown",
      "id": "4c772117",
      "metadata": {
        "id": "4c772117"
      },
      "source": [
        "### Examples"
      ]
    },
    {
      "cell_type": "markdown",
      "id": "03bcdeb5",
      "metadata": {
        "id": "03bcdeb5"
      },
      "source": [
        "#### Bad"
      ]
    },
    {
      "cell_type": "code",
      "execution_count": null,
      "id": "b1cafe57",
      "metadata": {
        "id": "b1cafe57",
        "colab": {
          "base_uri": "https://localhost:8080/"
        },
        "outputId": "3067383a-5d4b-4521-e297-408b7672290d"
      },
      "outputs": [
        {
          "output_type": "stream",
          "name": "stdout",
          "text": [
            "one\n",
            "two\n",
            "one\n"
          ]
        }
      ],
      "source": [
        "print('one'); print('two')\n",
        "x=1\n",
        "\n",
        "if x == 1: print('one')\n",
        "\n",
        "# The issue is readability. The code is not indented.\n",
        "# if <complex comparison> and <other complex comparison>:\n",
        "    # do something"
      ]
    },
    {
      "cell_type": "markdown",
      "source": [
        "* Issue: readability\n",
        "* what is the code doing? excuting multiple things within one line\n",
        "  * Want one line to excute one thing"
      ],
      "metadata": {
        "id": "fnAiQej2SmhO"
      },
      "id": "fnAiQej2SmhO"
    },
    {
      "cell_type": "markdown",
      "id": "089503d3",
      "metadata": {
        "id": "089503d3"
      },
      "source": [
        "#### Good"
      ]
    },
    {
      "cell_type": "code",
      "execution_count": null,
      "id": "c210ad68",
      "metadata": {
        "id": "c210ad68",
        "colab": {
          "base_uri": "https://localhost:8080/",
          "height": 106
        },
        "outputId": "c2b46ba7-1828-44b4-b9e5-47c3d8c5fa06"
      },
      "outputs": [
        {
          "output_type": "error",
          "ename": "SyntaxError",
          "evalue": "invalid syntax (<ipython-input-23-e60418199cc1>, line 8)",
          "traceback": [
            "\u001b[0;36m  File \u001b[0;32m\"<ipython-input-23-e60418199cc1>\"\u001b[0;36m, line \u001b[0;32m8\u001b[0m\n\u001b[0;31m    cond1 = <complex comparison>\u001b[0m\n\u001b[0m            ^\u001b[0m\n\u001b[0;31mSyntaxError\u001b[0m\u001b[0;31m:\u001b[0m invalid syntax\n"
          ]
        }
      ],
      "source": [
        "print('one')\n",
        "print('two')\n",
        "\n",
        "if x == 1:\n",
        "    print('one')\n",
        "\n",
        "# uncomment for run through\n",
        "cond1 = <complex comparison>\n",
        "cond2 = <other complex comparison>\n",
        "if cond1 and cond2:\n",
        "    # do something"
      ]
    },
    {
      "cell_type": "markdown",
      "source": [
        "* define condition 1\n",
        "* define condition 2\n",
        "* if one and two?"
      ],
      "metadata": {
        "id": "k6w9r9AzS915"
      },
      "id": "k6w9r9AzS915"
    },
    {
      "cell_type": "markdown",
      "id": "02b1e5c7",
      "metadata": {
        "id": "02b1e5c7"
      },
      "source": [
        "#### Bad"
      ]
    },
    {
      "cell_type": "code",
      "execution_count": null,
      "id": "9e24d6ea",
      "metadata": {
        "id": "9e24d6ea",
        "colab": {
          "base_uri": "https://localhost:8080/"
        },
        "outputId": "365a80e2-aabc-4ea7-fb45-b7b3152060f0"
      },
      "outputs": [
        {
          "output_type": "stream",
          "name": "stdout",
          "text": [
            "True!\n"
          ]
        }
      ],
      "source": [
        "attr=True\n",
        "if attr == True:\n",
        "    print('True!')\n",
        "\n",
        "if attr == None:\n",
        "    print('attr is None!')"
      ]
    },
    {
      "cell_type": "markdown",
      "id": "a180c48f",
      "metadata": {
        "id": "a180c48f"
      },
      "source": [
        "#### Good"
      ]
    },
    {
      "cell_type": "code",
      "execution_count": null,
      "id": "93f67fac",
      "metadata": {
        "id": "93f67fac",
        "colab": {
          "base_uri": "https://localhost:8080/"
        },
        "outputId": "6dc45624-7a50-46f1-cb40-b5d13b58bf3f"
      },
      "outputs": [
        {
          "output_type": "stream",
          "name": "stdout",
          "text": [
            "attr is truthy!\n"
          ]
        }
      ],
      "source": [
        "# Just check the value\n",
        "if attr:\n",
        "    print('attr is truthy!')\n",
        "\n",
        "# or check for the opposite\n",
        "if not attr:\n",
        "    print('attr is falsey!')\n",
        "\n",
        "# or, since None is considered false, explicitly check for it\n",
        "if attr is None:\n",
        "    print('attr is None!')"
      ]
    },
    {
      "cell_type": "markdown",
      "source": [
        "* both are equivalent but the \"good\" is in python lingo\n",
        "* 'if attr:' = 'if attr == True'\n",
        "* 'if not attr:' = 'if attr == None'"
      ],
      "metadata": {
        "id": "JNRFqh0jTRww"
      },
      "id": "JNRFqh0jTRww"
    },
    {
      "cell_type": "markdown",
      "id": "b86b843b",
      "metadata": {
        "id": "b86b843b"
      },
      "source": [
        "\n",
        "**We highly recommend watching this video** - A masterclass to teach you all Python best practices - https://www.youtube.com/watch?v=ubGeHQRjNog"
      ]
    },
    {
      "cell_type": "markdown",
      "id": "57877afb",
      "metadata": {
        "id": "57877afb"
      },
      "source": [
        "# Errors :\n",
        "## These are going to make your life miserable this semester\n",
        "### But Python helps you a lot identify where the problem is.... and you can easily learn how fix them!"
      ]
    },
    {
      "cell_type": "markdown",
      "id": "ec91f024",
      "metadata": {
        "id": "ec91f024"
      },
      "source": [
        "### Understanding Traceback\n",
        "Python generates traceback when an exception occurs during the execution of the python program. There are two conditions the python program gets into problems while the program is executed.\n",
        "\n",
        "1. **Syntax Error** - If the program is not properly coded, the program gets into error at the time of compilation itself. You need to write the correct code; then, only the program will progress to the next lines.\n",
        "\n",
        "\n",
        "2. **Logical Error (Exception)** - This error happens only during the execution, and it surfaces only when an exceptional condition occurs within the program. The exceptional condition occurs due to the supply of wrong data, and the program is not designed to manage the extraneous condition."
      ]
    },
    {
      "cell_type": "markdown",
      "source": [
        "* Helpful to input error into google (ex. \"NameError\")\n",
        "* Logical: ex. dividing by 0"
      ],
      "metadata": {
        "id": "0lb8s0bKT6ps"
      },
      "id": "0lb8s0bKT6ps"
    },
    {
      "cell_type": "markdown",
      "id": "a2a47c62",
      "metadata": {
        "id": "a2a47c62"
      },
      "source": [
        "![pic1.png](https://github.com/gt-cse-6040/bootcamp/blob/main/Module%200/Session%202/pic1.png?raw=1)"
      ]
    },
    {
      "cell_type": "markdown",
      "source": [
        "* Blue: specific name of python error\n",
        "* Green: datail description of error itself\n",
        "* Yello: bottom {red underline} will be actual line that attempted to be excuted when error occured most"
      ],
      "metadata": {
        "id": "jBfQgYtTU7Kq"
      },
      "id": "jBfQgYtTU7Kq"
    },
    {
      "cell_type": "markdown",
      "id": "ecac35a2",
      "metadata": {
        "id": "ecac35a2"
      },
      "source": [
        "### How to read the coding error messages\n",
        "1. The arrow always points to the line of code that failed.\n",
        "\n",
        "### Let’s look at a coding error message in the function below. The code is commented out, and we will uncomment it to illustrate.\n",
        "#### What you see is the ERROR TRACEBACK.\n",
        "1. The BOTTOM ARROW will always point to the line of code that directly caused the failure. It may be a line of code in your notebook, or a line of code from the underlying Python system.\n",
        "\n",
        "2. The TOP ARROW will point to the initial line of code that was executed, and you can start here, working down, to see the sequence of code that was executed (not every line will be shown).\n",
        "\n",
        "3. If your function is calling other functions within your notebook, each of those lines will be included in the error trace.\n",
        "\n",
        "4. What you want to do is work your way down to the first line of code (arrowed to) that is from the notebook, and that you wrote. This will tell you where your underlying problem is.\n",
        "\n",
        "#### The bottom of the error block will give the ERROR TEXT. If you do not understand what this text means, GOOGLE SEARCH THE TEXT!!\n",
        "\n",
        "#### Here is the link to an excellent article to understand how to read error messages and the traceback:  https://realpython.com/python-traceback/"
      ]
    },
    {
      "cell_type": "code",
      "execution_count": null,
      "id": "26a75b0a",
      "metadata": {
        "id": "26a75b0a",
        "colab": {
          "base_uri": "https://localhost:8080/",
          "height": 106
        },
        "outputId": "45ef4554-f452-429b-dfc3-a40c786a36d2"
      },
      "outputs": [
        {
          "output_type": "error",
          "ename": "IndentationError",
          "evalue": "expected an indented block after function definition on line 3 (<ipython-input-26-7d09384b1151>, line 4)",
          "traceback": [
            "\u001b[0;36m  File \u001b[0;32m\"<ipython-input-26-7d09384b1151>\"\u001b[0;36m, line \u001b[0;32m4\u001b[0m\n\u001b[0;31m    A = Num / Den\u001b[0m\n\u001b[0m    ^\u001b[0m\n\u001b[0;31mIndentationError\u001b[0m\u001b[0;31m:\u001b[0m expected an indented block after function definition on line 3\n"
          ]
        }
      ],
      "source": [
        "# uncomment the code to run the cell and show the error\n",
        "# will throw error for improper indentation\n",
        "def Division(Num=2, Den=2):\n",
        "A = Num / Den\n",
        "return A\n",
        "\n",
        "print(Division())\n"
      ]
    },
    {
      "cell_type": "markdown",
      "source": [
        "* Syntax error so it would never run"
      ],
      "metadata": {
        "id": "B9zWBtAOWqOl"
      },
      "id": "B9zWBtAOWqOl"
    },
    {
      "cell_type": "code",
      "execution_count": null,
      "id": "a96cac9d",
      "metadata": {
        "id": "a96cac9d",
        "colab": {
          "base_uri": "https://localhost:8080/",
          "height": 314
        },
        "outputId": "e012c35b-3be6-47d2-c857-0009ed33ad7d"
      },
      "outputs": [
        {
          "output_type": "error",
          "ename": "ZeroDivisionError",
          "evalue": "division by zero",
          "traceback": [
            "\u001b[0;31m---------------------------------------------------------------------------\u001b[0m",
            "\u001b[0;31mZeroDivisionError\u001b[0m                         Traceback (most recent call last)",
            "\u001b[0;32m<ipython-input-28-70daec49751c>\u001b[0m in \u001b[0;36m<cell line: 0>\u001b[0;34m()\u001b[0m\n\u001b[1;32m     10\u001b[0m     \u001b[0;32mreturn\u001b[0m \u001b[0mA\u001b[0m\u001b[0;34m\u001b[0m\u001b[0;34m\u001b[0m\u001b[0m\n\u001b[1;32m     11\u001b[0m \u001b[0;34m\u001b[0m\u001b[0m\n\u001b[0;32m---> 12\u001b[0;31m \u001b[0mprint\u001b[0m\u001b[0;34m(\u001b[0m\u001b[0mDivision_1\u001b[0m\u001b[0;34m(\u001b[0m\u001b[0;34m)\u001b[0m\u001b[0;34m)\u001b[0m\u001b[0;34m\u001b[0m\u001b[0;34m\u001b[0m\u001b[0m\n\u001b[0m\u001b[1;32m     13\u001b[0m \u001b[0mget_ipython\u001b[0m\u001b[0;34m(\u001b[0m\u001b[0;34m)\u001b[0m\u001b[0;34m.\u001b[0m\u001b[0mrun_line_magic\u001b[0m\u001b[0;34m(\u001b[0m\u001b[0;34m'debug'\u001b[0m\u001b[0;34m,\u001b[0m \u001b[0;34m''\u001b[0m\u001b[0;34m)\u001b[0m\u001b[0;34m\u001b[0m\u001b[0;34m\u001b[0m\u001b[0m\n",
            "\u001b[0;32m<ipython-input-28-70daec49751c>\u001b[0m in \u001b[0;36mDivision_1\u001b[0;34m(Num, Den)\u001b[0m\n\u001b[1;32m      7\u001b[0m     \u001b[0;31m# Den = 10\u001b[0m\u001b[0;34m\u001b[0m\u001b[0;34m\u001b[0m\u001b[0m\n\u001b[1;32m      8\u001b[0m \u001b[0;34m\u001b[0m\u001b[0m\n\u001b[0;32m----> 9\u001b[0;31m     \u001b[0mA\u001b[0m \u001b[0;34m=\u001b[0m \u001b[0mNum\u001b[0m \u001b[0;34m/\u001b[0m \u001b[0mDen\u001b[0m\u001b[0;34m\u001b[0m\u001b[0;34m\u001b[0m\u001b[0m\n\u001b[0m\u001b[1;32m     10\u001b[0m     \u001b[0;32mreturn\u001b[0m \u001b[0mA\u001b[0m\u001b[0;34m\u001b[0m\u001b[0;34m\u001b[0m\u001b[0m\n\u001b[1;32m     11\u001b[0m \u001b[0;34m\u001b[0m\u001b[0m\n",
            "\u001b[0;31mZeroDivisionError\u001b[0m: division by zero"
          ]
        }
      ],
      "source": [
        "# Let's use this function to show error scenarios.\n",
        "# uncomment to run\n",
        "def Division_1(Num=2, Den=0):\n",
        "\n",
        "    # commented out, so use the default values\n",
        "    # Num = 5\n",
        "    # Den = 10\n",
        "\n",
        "    A = Num / Den\n",
        "    return A\n",
        "\n",
        "print(Division_1())\n",
        "%debug"
      ]
    },
    {
      "cell_type": "markdown",
      "source": [
        "* 2 parameters both with defaults\n",
        "* Logic error: attempts to divide something by 0\n",
        "* No syntax error returned beacuse syntax is correct but there is a logical error\n",
        "* it can give you a chain of errors with the top being the start of where the error occured"
      ],
      "metadata": {
        "id": "RxGZdaDoWkJ1"
      },
      "id": "RxGZdaDoWkJ1"
    },
    {
      "cell_type": "markdown",
      "id": "cc735051",
      "metadata": {
        "id": "cc735051"
      },
      "source": [
        "More details on different types of Exceptions -\n",
        "1. https://realpython.com/python-traceback/#what-are-some-common-tracebacks-in-python\n",
        "2. https://www.geeksforgeeks.org/python-traceback/\n",
        "3. https://www.tutorialsteacher.com/python/error-types-in-python\n",
        "\n",
        "Python Data Science Handbook – Jake VanderPlas\n",
        "1. Book link: https://jakevdp.github.io/PythonDataScienceHandbook/\n",
        "\n",
        "2. Errors and Debugging Page-- https://jakevdp.github.io/PythonDataScienceHandbook/01.06-errors-and-debugging.html\n",
        "\n",
        "3. Errors and Debugging – Google Colab:  https://colab.research.google.com/github/jakevdp/PythonDataScienceHandbook/blob/master/notebooks/01.06-Errors-and-Debugging.ipynb"
      ]
    }
  ],
  "metadata": {
    "colab": {
      "provenance": [],
      "include_colab_link": true
    },
    "kernelspec": {
      "display_name": "Python 3 (ipykernel)",
      "language": "python",
      "name": "python3"
    },
    "language_info": {
      "codemirror_mode": {
        "name": "ipython",
        "version": 3
      },
      "file_extension": ".py",
      "mimetype": "text/x-python",
      "name": "python",
      "nbconvert_exporter": "python",
      "pygments_lexer": "ipython3",
      "version": "3.9.13"
    }
  },
  "nbformat": 4,
  "nbformat_minor": 5
}