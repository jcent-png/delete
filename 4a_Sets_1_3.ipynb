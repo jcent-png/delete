{
  "cells": [
    {
      "cell_type": "markdown",
      "metadata": {
        "id": "view-in-github",
        "colab_type": "text"
      },
      "source": [
        "<a href=\"https://colab.research.google.com/github/jcent-png/delete/blob/main/4a_Sets_1_3.ipynb\" target=\"_parent\"><img src=\"https://colab.research.google.com/assets/colab-badge.svg\" alt=\"Open In Colab\"/></a>"
      ]
    },
    {
      "cell_type": "markdown",
      "id": "945c9b8f",
      "metadata": {
        "id": "945c9b8f"
      },
      "source": [
        "# Python Sets"
      ]
    },
    {
      "cell_type": "markdown",
      "id": "8ad7d700",
      "metadata": {
        "id": "8ad7d700"
      },
      "source": [
        "### Sets in Python\n",
        "\n",
        "####  A set is an unordered collection with no duplicate elements. Sets are mutable, but they must contain immutable elements.\n",
        "\n",
        "Basic uses include membership testing and eliminating duplicate entries.\n",
        "\n",
        "Set objects also support mathematical operations like union, intersection, difference, and symmetric difference.\n",
        "\n",
        "To create a set, we use either curly braces or the set() function.\n",
        "\n",
        "We can create:\n",
        "\n",
        "1. An empty `set`, using the `set()` function.\n",
        "\n",
        "2. A `set` with values, using either `set()` or curly braces, `{}`.\n",
        "\n",
        "     a. The `set()` function takes a single argument, which can be a list or string. It will return the unique elements for that are within that object.\n",
        "     \n",
        "     b. Creating a set with curly braces `{}` takes one or more arguments. It will return the unique elements of those arguments themselves.\n",
        "\n",
        "\n",
        "3. A `set` created from another variable (`list` or `string`) will contain only the unique elements of that original variable, using the `set()` function. **This will be the most common method of creating a set in this class.**\n",
        "\n",
        "Note: to create an empty set you have to use set(), not {}; **The latter creates an empty dictionary, a data structure that we **will cover in the next bootcamp session.\n",
        "\n",
        "#### Set documentation link: https://docs.python.org/3/tutorial/datastructures.html#sets"
      ]
    },
    {
      "cell_type": "markdown",
      "source": [
        "* unordered with no duplicates - No slicing or indexing\n",
        "* Unique elements think of SETS **bold text**"
      ],
      "metadata": {
        "id": "m6O7EDKCUxAn"
      },
      "id": "m6O7EDKCUxAn"
    },
    {
      "cell_type": "markdown",
      "id": "f88eea30",
      "metadata": {
        "id": "f88eea30"
      },
      "source": [
        "### <span style=\"background-color: #FFFF00\">In this class, for homework notebooks and exams, most every time that you are asked for the unique values of some object/variable, you will be using a `set()` to return those unique values.</span>\n",
        "\n",
        "Some objects have their own `unique()` method, and we will be covering those later in the semester."
      ]
    },
    {
      "cell_type": "markdown",
      "id": "1c2a51a0",
      "metadata": {
        "id": "1c2a51a0"
      },
      "source": [
        "#### Create empty sets"
      ]
    },
    {
      "cell_type": "code",
      "execution_count": null,
      "id": "34251107",
      "metadata": {
        "id": "34251107",
        "colab": {
          "base_uri": "https://localhost:8080/",
          "height": 86
        },
        "outputId": "77c36e4a-55a1-4802-8d89-bf7929e9bb75"
      },
      "outputs": [
        {
          "output_type": "display_data",
          "data": {
            "text/plain": [
              "set()"
            ]
          },
          "metadata": {}
        },
        {
          "output_type": "display_data",
          "data": {
            "text/plain": [
              "{}"
            ]
          },
          "metadata": {}
        },
        {
          "output_type": "display_data",
          "data": {
            "text/plain": [
              "set"
            ]
          },
          "metadata": {}
        },
        {
          "output_type": "display_data",
          "data": {
            "text/plain": [
              "dict"
            ]
          },
          "metadata": {}
        }
      ],
      "source": [
        "empty_set_1 = set()\n",
        "# note that this creates a dictionary\n",
        "empty_set_2 = {}\n",
        "\n",
        "display(empty_set_1)\n",
        "display(empty_set_2)\n",
        "\n",
        "# set\n",
        "display(type(empty_set_1))\n",
        "#dictionary\n",
        "display(type(empty_set_2))"
      ]
    },
    {
      "cell_type": "markdown",
      "id": "bd515e4f",
      "metadata": {
        "id": "bd515e4f"
      },
      "source": [
        "#### Create a set with values."
      ]
    },
    {
      "cell_type": "code",
      "execution_count": null,
      "id": "5a209b64",
      "metadata": {
        "id": "5a209b64",
        "colab": {
          "base_uri": "https://localhost:8080/",
          "height": 52
        },
        "outputId": "e544b4a8-3024-4600-abd3-1968639e146e"
      },
      "outputs": [
        {
          "output_type": "display_data",
          "data": {
            "text/plain": [
              "{'a', 'b', 'c', 'd', 'r'}"
            ]
          },
          "metadata": {}
        },
        {
          "output_type": "display_data",
          "data": {
            "text/plain": [
              "{'granger', 'potter', 'snape', 'weasley'}"
            ]
          },
          "metadata": {}
        }
      ],
      "source": [
        "# pass in a string\n",
        "set_1 = set('abracadabra')\n",
        "display(set_1)\n",
        "\n",
        "# pass in a list\n",
        "set_2 = set(['potter', 'weasley', 'granger', 'snape', 'potter', 'snape'])\n",
        "display(set_2)"
      ]
    },
    {
      "cell_type": "markdown",
      "source": [
        "* Breaks down singular string into unique elements in string\n",
        "* Breaks down list taking out duplicates\n"
      ],
      "metadata": {
        "id": "XXWpW0m0V709"
      },
      "id": "XXWpW0m0V709"
    },
    {
      "cell_type": "code",
      "execution_count": null,
      "id": "c6ca36cf",
      "metadata": {
        "id": "c6ca36cf"
      },
      "outputs": [],
      "source": [
        "# will error out, because multiple parameters\n",
        "# set_3 = set('potter', 'weasley', 'granger', 'snape', 'potter', 'snape')\n",
        "# display(set_3)"
      ]
    },
    {
      "cell_type": "markdown",
      "source": [
        "* Using lists need to use brackets bc can only take one list and wo it, its entering multiple strings which doesnt work"
      ],
      "metadata": {
        "id": "uIlj9ArmWRSv"
      },
      "id": "uIlj9ArmWRSv"
    },
    {
      "cell_type": "code",
      "execution_count": null,
      "id": "a330e232",
      "metadata": {
        "id": "a330e232"
      },
      "outputs": [],
      "source": [
        "# using curly braces\n",
        "set_4 = {'abracadabra'}\n",
        "display(set_4)\n",
        "\n",
        "set_5 = {'potter', 'weasley', 'granger', 'snape', 'potter', 'snape'}\n",
        "display(set_5)"
      ]
    },
    {
      "cell_type": "markdown",
      "source": [
        "* When you have more than one element you can use {} but if youre breaking down one element need to use set()"
      ],
      "metadata": {
        "id": "uqVR0L5FWipC"
      },
      "id": "uqVR0L5FWipC"
    },
    {
      "cell_type": "markdown",
      "id": "01980164",
      "metadata": {
        "id": "01980164"
      },
      "source": [
        "#### Create a set as the unique values of another variable, such as a list or string."
      ]
    },
    {
      "cell_type": "code",
      "execution_count": null,
      "id": "b5c2fe1c",
      "metadata": {
        "id": "b5c2fe1c"
      },
      "outputs": [],
      "source": [
        "str_potter_1 = 'avada kedavra'\n",
        "set_6 = set(str_potter_1)\n",
        "display(set_6)"
      ]
    },
    {
      "cell_type": "code",
      "execution_count": null,
      "id": "d087483d",
      "metadata": {
        "id": "d087483d"
      },
      "outputs": [],
      "source": [
        "lst_potter_2 = ['potter', 'weasley', 'granger', 'snape', 'potter', 'snape']\n",
        "set_7 = set(lst_potter_2)\n",
        "display(set_7)"
      ]
    },
    {
      "cell_type": "code",
      "execution_count": null,
      "id": "9e7de0af",
      "metadata": {
        "id": "9e7de0af"
      },
      "outputs": [],
      "source": [
        "# recall that a set is unordered, so we cannot address specific elements by index\n",
        "# will throw an error\n",
        "# display(set_7[0])"
      ]
    },
    {
      "cell_type": "markdown",
      "source": [
        "* Cant slice or index sets"
      ],
      "metadata": {
        "id": "TcDtC_pvW0Nk"
      },
      "id": "TcDtC_pvW0Nk"
    },
    {
      "cell_type": "markdown",
      "id": "74ba3733",
      "metadata": {
        "id": "74ba3733"
      },
      "source": [
        "#### Testing membership in set"
      ]
    },
    {
      "cell_type": "markdown",
      "source": [
        "* calling set func is smarter as opposed to {}\n",
        "* So when you use curly brackets it does not need to be within a list, generally theyll you do set([]) or {}\n",
        "  * pass list into set func\n",
        "  * Put indiv elements (wo[]) into {}\n",
        "* Membership testing - asking a set a question\n",
        "  * checking if a collection of items contain a specific item\n",
        "* Returns boolean (T/F)\n",
        "* Advantage of sets over lists is that its complexitiy is O(1) whereas searching in lists is o(n). This is due to how sets are implemented usins hash tables\n",
        "* If sets are mutable, how do you change them if they cannot be indexed?\n",
        "  * can use .add to add elemment or .remove to take out element\n",
        "* Diff bw set and dictionary? disctionaries need key value pairs\n",
        "* nested lists are mutable?\n",
        "  * if its a list of lists of string, thenn set func wont work?"
      ],
      "metadata": {
        "id": "cGkBNi2qW6G6"
      },
      "id": "cGkBNi2qW6G6"
    },
    {
      "cell_type": "code",
      "execution_count": null,
      "id": "3a539a4a",
      "metadata": {
        "id": "3a539a4a"
      },
      "outputs": [],
      "source": [
        "'dumbledore' in set_7"
      ]
    },
    {
      "cell_type": "code",
      "execution_count": null,
      "id": "8218f001",
      "metadata": {
        "id": "8218f001"
      },
      "outputs": [],
      "source": [
        "if 'dumbledore' in set_7:\n",
        "    print(\"He is\")\n",
        "else:\n",
        "    print(\"He's not\")"
      ]
    },
    {
      "cell_type": "markdown",
      "id": "610dc71e",
      "metadata": {
        "id": "610dc71e"
      },
      "source": [
        "#### Use Python bitwise operators to compare the values in two sets.\n",
        "\n",
        "https://realpython.com/python-bitwise-operators/"
      ]
    },
    {
      "cell_type": "code",
      "execution_count": null,
      "id": "1e7a0f96",
      "metadata": {
        "id": "1e7a0f96",
        "colab": {
          "base_uri": "https://localhost:8080/",
          "height": 52
        },
        "outputId": "e7d72e10-71a1-49b3-f157-a0ae7c04f3c1"
      },
      "outputs": [
        {
          "output_type": "display_data",
          "data": {
            "text/plain": [
              "{'a', 'b', 'c', 'd', 'r'}"
            ]
          },
          "metadata": {}
        },
        {
          "output_type": "display_data",
          "data": {
            "text/plain": [
              "{' ', 'a', 'd', 'e', 'k', 'r', 'v'}"
            ]
          },
          "metadata": {}
        }
      ],
      "source": [
        "set_magic = set('abracadabra')\n",
        "set_spell = set('avada kedavra')\n",
        "display(set_magic)\n",
        "display(set_spell)"
      ]
    },
    {
      "cell_type": "markdown",
      "id": "ab65715f",
      "metadata": {
        "id": "ab65715f"
      },
      "source": [
        "Bitwise **SUBTRACTION**"
      ]
    },
    {
      "cell_type": "markdown",
      "source": [
        "* Use sets to perform these operations\n",
        "* what letters are in set_magic but not set_spell?\n",
        "  * order of subtraction matters (not commutitive)\n",
        "* No addition operater in sets"
      ],
      "metadata": {
        "id": "maq4wLXgYv7A"
      },
      "id": "maq4wLXgYv7A"
    },
    {
      "cell_type": "code",
      "execution_count": null,
      "id": "91cf5ce4",
      "metadata": {
        "id": "91cf5ce4",
        "colab": {
          "base_uri": "https://localhost:8080/"
        },
        "outputId": "75cbe545-c9d9-40cb-948a-317de4bed8ec"
      },
      "outputs": [
        {
          "output_type": "execute_result",
          "data": {
            "text/plain": [
              "{'b', 'c'}"
            ]
          },
          "metadata": {},
          "execution_count": 4
        }
      ],
      "source": [
        "# letters in set_magic but not in set_spell\n",
        "set_magic - set_spell"
      ]
    },
    {
      "cell_type": "code",
      "execution_count": null,
      "id": "f7c2b72b",
      "metadata": {
        "id": "f7c2b72b"
      },
      "outputs": [],
      "source": [
        "# Note that Bitwise ADDITION is not supported for sets\n",
        "# will error out\n",
        "# set_magic + set_spell"
      ]
    },
    {
      "cell_type": "markdown",
      "id": "76a48c12",
      "metadata": {
        "id": "76a48c12"
      },
      "source": [
        "Bitwise **OR**"
      ]
    },
    {
      "cell_type": "code",
      "execution_count": null,
      "id": "05f61e08",
      "metadata": {
        "id": "05f61e08",
        "colab": {
          "base_uri": "https://localhost:8080/"
        },
        "outputId": "76b088c9-79b3-413e-a0ae-db497170772e"
      },
      "outputs": [
        {
          "output_type": "execute_result",
          "data": {
            "text/plain": [
              "{' ', 'a', 'b', 'c', 'd', 'e', 'k', 'r', 'v'}"
            ]
          },
          "metadata": {},
          "execution_count": 5
        }
      ],
      "source": [
        "# letters in set_magic or set_spell or both\n",
        "set_magic | set_spell"
      ]
    },
    {
      "cell_type": "markdown",
      "id": "42a819b7",
      "metadata": {
        "id": "42a819b7"
      },
      "source": [
        "Bitwise **AND**"
      ]
    },
    {
      "cell_type": "code",
      "execution_count": null,
      "id": "4ef1d8d1",
      "metadata": {
        "id": "4ef1d8d1"
      },
      "outputs": [],
      "source": [
        "# letters in both set_magic and set_spell\n",
        "set_magic & set_spell"
      ]
    },
    {
      "cell_type": "markdown",
      "id": "374b122c",
      "metadata": {
        "id": "374b122c"
      },
      "source": [
        "Bitwise **XOR**  Exclusive OR"
      ]
    },
    {
      "cell_type": "code",
      "execution_count": null,
      "id": "0026af95",
      "metadata": {
        "id": "0026af95"
      },
      "outputs": [],
      "source": [
        "# letters in either set_magic or set_spell, but not in both\n",
        "set_magic ^ set_spell"
      ]
    },
    {
      "cell_type": "markdown",
      "source": [
        "* xor vs or\n",
        "* xor(0,0)=0\n",
        "* xor(0,1)=1\n",
        "* xor(1,0)=1\n",
        "\n",
        "![image.png](data:image/png;base64,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)\n",
        "* Create a list that breaks down all the uniique characer in a list\n",
        "  * l = []\n",
        "  * s = set(l)\n",
        "\n",
        "\n",
        "  * No unique method in ser()\n",
        "  * Where do you use sets?\n",
        "    * returning a 'unique/distinct' example (want to find differences or similarities)\n",
        "    * ex. if you want to compare which players were on the team TY and LY or XOR for ....\n",
        "\n",
        "    * sets dont have order"
      ],
      "metadata": {
        "id": "TJrj6RmRZZyW"
      },
      "id": "TJrj6RmRZZyW"
    },
    {
      "cell_type": "markdown",
      "id": "45cbd8c3",
      "metadata": {
        "id": "45cbd8c3"
      },
      "source": [
        "#### What are your questions on sets?"
      ]
    }
  ],
  "metadata": {
    "kernelspec": {
      "display_name": "Python 3 (ipykernel)",
      "language": "python",
      "name": "python3"
    },
    "language_info": {
      "codemirror_mode": {
        "name": "ipython",
        "version": 3
      },
      "file_extension": ".py",
      "mimetype": "text/x-python",
      "name": "python",
      "nbconvert_exporter": "python",
      "pygments_lexer": "ipython3",
      "version": "3.9.13"
    },
    "colab": {
      "provenance": [],
      "include_colab_link": true
    }
  },
  "nbformat": 4,
  "nbformat_minor": 5
}