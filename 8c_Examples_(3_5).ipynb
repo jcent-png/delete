{
  "cells": [
    {
      "cell_type": "markdown",
      "metadata": {
        "id": "view-in-github",
        "colab_type": "text"
      },
      "source": [
        "<a href=\"https://colab.research.google.com/github/jcent-png/delete/blob/main/8c_Examples_(3_5).ipynb\" target=\"_parent\"><img src=\"https://colab.research.google.com/assets/colab-badge.svg\" alt=\"Open In Colab\"/></a>"
      ]
    },
    {
      "cell_type": "markdown",
      "metadata": {
        "nbgrader": {
          "grade": false,
          "locked": false,
          "solution": false
        },
        "id": "zRIbcMBSali1"
      },
      "source": [
        "# Problem 7\n",
        "\n",
        "**Letter frequencies.** This problem has three (3) exercises worth a total of ten (10) points."
      ]
    },
    {
      "cell_type": "markdown",
      "metadata": {
        "id": "t1e5P_3pali3"
      },
      "source": [
        "Letter frequency in text has been studied in cryptoanalysis, in particular frequency analysis. Linguists use letter frequency analysis as a rudimentary technique for language identification, where it's particularly effective as an indicator of whether an unknown writing system is alphabetic, syllablic, or ideographic.\n",
        "\n",
        "Primarily, three different ways exist for letter frequency analysis. Each way generally results in very different charts for common letters. Based on the provided text, the first method is to count letter frequency in root words of a dictionary. The second way is to include all word variants when counting, such as gone, going and goes and not just the root word go. Such a system results in letters like \"s\" appearing much more frequently. The last variant is to count letters based on their frequency in the actual text that is being studied.\n",
        "\n",
        "For more details, refer to the link:\n",
        "https://en.wikipedia.org/wiki/Letter_frequency\n",
        "\n",
        "In this problem, we will focus on the 3rd methodology."
      ]
    },
    {
      "cell_type": "markdown",
      "metadata": {
        "id": "evoLHhbwali4"
      },
      "source": [
        "**Exercise 0** (2 points). First, given a string input, define a function  `preprocess` that returns a string with non-alphabetic characters removed and all the alphabets converted into a lower case.\n",
        "\n",
        "For example, 'We are coding letter Frequency! Yay!\" would be transformed into \"wearecodingletterfrequencyyay\""
      ]
    },
    {
      "cell_type": "code",
      "execution_count": 1,
      "metadata": {
        "id": "eVry6oOFali4"
      },
      "outputs": [],
      "source": [
        "def preprocess(S):\n",
        "    ### YOUR CODE HERE\n",
        "\n",
        "#   GOAL:\n",
        "#   Return a string with non-alphabetic characters removed and all the alphabets converted into a lower case.\n",
        "\n",
        "#   INPUT:\n",
        "#   A string named 'S' to be processed.\n",
        "\n",
        "#   STRATEGY:\n",
        "#   1. Create an empty string. Let's call this 'final_string'\n",
        "#   2. Get lowercase version of input 'S'. Let's call this 'S_lower'\n",
        "#   2. Iterate over all of the characters in 'S_lower'\n",
        "#        3. If the character is a letter, add it to 'final_string'\n",
        "#   4. Return 'final_string'\n",
        "\n",
        "#   My Google Search: 'python find if letter'\n",
        "#   Link I found: https://www.geeksforgeeks.org/python-program-to-check-if-a-string-has-at-least-one-letter-and-one-number/\n",
        "\n",
        "#   SOLUTION:\n",
        "    final_string = ''\n",
        "    S_lower = S.lower()\n",
        "\n",
        "    for character in S_lower:\n",
        "        if character.isalpha():\n",
        "            final_string += character\n",
        "\n",
        "    return final_string\n"
      ]
    },
    {
      "cell_type": "code",
      "execution_count": 2,
      "metadata": {
        "nbgrader": {
          "grade": true,
          "grade_id": "valid_string",
          "locked": true,
          "points": "2",
          "solution": false
        },
        "id": "hZLpJExXali5",
        "outputId": "c420152e-8e97-493d-9dda-45d0ff6240ed",
        "colab": {
          "base_uri": "https://localhost:8080/"
        }
      },
      "outputs": [
        {
          "output_type": "stream",
          "name": "stdout",
          "text": [
            "Input String:  9c+CA9R3NwxBvP[Fy!VSnxBG3%<]M%^Kwn_]p]xl.yr|MtJw)pr@>6R}N[nz^}B9!B>6dT,GUnAe<V1%U2~A|~,9oCh]eL>=Q[-C\n",
            "|----Your function seems to work correct for the string----|\n",
            "\n",
            "Input String:  a&QU\"W1t!Fuqk*V{<TY5pQ<kb8IcXYhV'a{M\"z:W?}B\\DOV7v>E[L4zS>!ozd^izbgX(EDUPON?D`w41JZm5-#H5y1s(l2U*.Xre\n",
            "|----Your function seems to work correct for the string----|\n",
            "\n",
            "Input String:  ?)AmK$:d@\\.QkR|oUC.|`ML\"T\"\\^GT_CtT2B.M[r]_:pAPMDud#uqc=}|f2gBcv%oa;ob8MH)B1Kj?~o)o[5_e><WPu^-e\")J^V\\\n",
            "|----Your function seems to work correct for the string----|\n",
            "\n",
            "\n",
            "(Passed)!\n"
          ]
        }
      ],
      "source": [
        "# Test cell: valid_string\n",
        "import random, string\n",
        "\n",
        "N_str = 100 #Length of random string\n",
        "\n",
        "def generate_str(n):\n",
        "    random_str = ''.join(random.choice(string.ascii_lowercase + string.ascii_uppercase + string.digits + string.punctuation) for _ in range(n))\n",
        "    return random_str\n",
        "\n",
        "def check_preprocess_str(n):\n",
        "    random_str = generate_str(n)\n",
        "    print(\"Input String: \",random_str)\n",
        "    assert preprocess(random_str).islower() == True\n",
        "    assert preprocess(random_str).isalpha() == True\n",
        "    print(\"|----Your function seems to work correct for the string----|\"+\"\\n\")\n",
        "\n",
        "check_preprocess_str(N_str)\n",
        "check_preprocess_str(N_str)\n",
        "check_preprocess_str(N_str)\n",
        "\n",
        "print(\"\\n(Passed)!\")"
      ]
    },
    {
      "cell_type": "markdown",
      "metadata": {
        "id": "eekpVNZ0ali5"
      },
      "source": [
        "**Exercise 1** (4 points). With the necessary pre-processing complete, the next step is to write a function `count_letters(S)` to count the number of occurrences of each letter in the alphabet.  \n",
        "\n",
        "You can assume that only letters will be present in the input string. It should output a dictionary and if any alphabet (a-z) is missing in the input string, it should still be a part of the output dictionary and its corresponding value should be equal to zero.\n"
      ]
    },
    {
      "cell_type": "code",
      "execution_count": 3,
      "metadata": {
        "id": "q-SjNZj9ali6"
      },
      "outputs": [],
      "source": [
        "def count_letters(S):\n",
        "    ### YOUR CODE HERE\n",
        "\n",
        "#   GOAL:\n",
        "#   Count the number of occurrences of each letter in the alphabet.\n",
        "#   Output a dictionary, and if any alphabet (a-z) is missing in the input string,\n",
        "#   it should still be a part of the output dictionary,\n",
        "#   and its corresponding value should be equal to zero.\n",
        "\n",
        "#   INPUT:\n",
        "#   A string 'S' which contains only letters.\n",
        "\n",
        "#   STRATEGY:\n",
        "#   1. Create an empty dictionary. Let's call this 'final_dict'\n",
        "#   2. Create string with all letters a-z, which will become the keys in our final dictionary. Let's call this 'all_letters'\n",
        "#   3. Iterate over each letter in 'all_letters' string.\n",
        "#         4. Count the number of times that letter appears in our input string 'S'\n",
        "#         5. Create a key, value pair in 'final_dict' where the key is the letter and its value is the count found in Step 4.\n",
        "#   6. Return 'final_dict'\n",
        "\n",
        "#   My Google Searches: 'python get all letters' and 'python count occurrences in string'\n",
        "#   Links I found:\n",
        "#   https://www.javatpoint.com/alphabet-in-python\n",
        "#   https://www.programiz.com/python-programming/methods/string/count#google_vignette\n",
        "\n",
        "#   SOLUTION:\n",
        "    final_dict = {}\n",
        "\n",
        "    # create the string of all lowercase letters\n",
        "    all_letters = string.ascii_lowercase\n",
        "\n",
        "    for letter in all_letters:\n",
        "        final_dict[letter] = S.count(letter) # why don't we need to detect if the key is already there?\n",
        "\n",
        "    return final_dict"
      ]
    },
    {
      "cell_type": "code",
      "execution_count": 4,
      "metadata": {
        "nbgrader": {
          "grade": true,
          "grade_id": "count_letters",
          "locked": true,
          "points": "4",
          "solution": false
        },
        "scrolled": true,
        "id": "dj0snU3eali6",
        "outputId": "7dd324ce-6783-4c09-eceb-1e79d80b18b5",
        "colab": {
          "base_uri": "https://localhost:8080/"
        }
      },
      "outputs": [
        {
          "output_type": "stream",
          "name": "stdout",
          "text": [
            "Input String:  psatdttzyidjwipzhdpjblvmdrdumattvjbofigafqpjuytorweffjnkjvdsodlkxamyhuwbojipiekxdcjosmkwnqkuaopyxlbn\n",
            "Character frequency evaluated for:  b\n",
            "|----Your function seems to return correct freq for the char----|\n",
            "\n",
            "Input String:  xpkwcnxhxjgrddgtavwrqaremvzuvnzhzydanbhgbanvrowwvzxwzazkktndvvoewopybfmymwkztomcdkwkpbijnxbiajsyiira\n",
            "Character frequency evaluated for:  i\n",
            "|----Your function seems to return correct freq for the char----|\n",
            "\n",
            "Input String:  uymzzmqjzoqwaounxcuzakzzisbrnqfqwmevrmisvoojdnrxkpuoerezqyzdnjfyopqfbnwhyoiqhzzzggaxhhnwmvvqkvjicnor\n",
            "Character frequency evaluated for:  e\n",
            "|----Your function seems to return correct freq for the char----|\n",
            "\n",
            "\n",
            "(Passed)!\n"
          ]
        }
      ],
      "source": [
        "# Test cell: count_letters\n",
        "import collections\n",
        "\n",
        "N_processed_str = 100\n",
        "\n",
        "def generate_processed_str(n):\n",
        "    random_processed_str = ''.join(random.choice(string.ascii_lowercase) for _ in range(n))\n",
        "    return random_processed_str\n",
        "\n",
        "def check_count_letters(S):\n",
        "    print(\"Input String: \",S)\n",
        "    random_char = chr(random.randint(97,122))\n",
        "    print(\"Character frequency evaluated for: \", random_char)\n",
        "    if(random_char in S):\n",
        "        assert count_letters(S)[random_char] == collections.Counter(S)[random_char]\n",
        "        print(\"|----Your function seems to return correct freq for the char----|\"+\"\\n\")\n",
        "    else:\n",
        "        assert count_letters(S)[random_char] == 0\n",
        "        print(\"|----Your function seems to return correct freq for the char----|\"+\"\\n\")\n",
        "\n",
        "check_count_letters(generate_processed_str(N_processed_str))\n",
        "check_count_letters(generate_processed_str(N_processed_str))\n",
        "check_count_letters(generate_processed_str(N_processed_str))\n",
        "print(\"\\n(Passed)!\")"
      ]
    },
    {
      "cell_type": "markdown",
      "metadata": {
        "id": "JngZvUJVali7"
      },
      "source": [
        "**Exercise 2** (4 points). The next step is to sort the distribution of a dictionary containing all the letters in the alphabet as keys and number of occurrences in text as associated value.\n",
        "\n",
        "Sorting should be first done in decreasing order by occurrence count and for two elements with same count, the order should be alphabetic. The function  `find_top_letter(d)` should return the 1st character in the order."
      ]
    },
    {
      "cell_type": "code",
      "execution_count": 5,
      "metadata": {
        "id": "SSgp5Y9rali7"
      },
      "outputs": [],
      "source": [
        "def find_top_letter(d):\n",
        "    ### YOUR CODE HERE\n",
        "\n",
        "#   GOAL:\n",
        "#   Return the letter with the highest frequency in the input dictionary.\n",
        "#   If two letters are tied in frequency, the one to return is the\n",
        "#   one that appears first in the alphabet. So the letter to return will be the\n",
        "#   key of the first element in the dictionary, after sorting.\n",
        "\n",
        "#   INPUT:\n",
        "#   A dictionary 'd' with letters as keys and frequencies as values\n",
        "\n",
        "#   STRATEGY:\n",
        "#   1. Figure out how to sort 'd' by values (frequency) in descending order and then by key (letter) in ascending order\n",
        "#   2. Return the first letter (highest frequency, first in alphabetical order) from Step 1\n",
        "\n",
        "#   My Google Searches: 'python sort dictionary' and 'python sort dictionary by value then key'\n",
        "#   Links you could use:\n",
        "#   A Fantastic Guide on Sorting Dictionaries in General:\n",
        "#   https://realpython.com/sort-python-dictionary/\n",
        "\n",
        "#   https://stackoverflow.com/questions/15371691/how-to-sort-a-dictionary-by-value-desc-then-by-key-asc\n",
        "#   https://www.geeksforgeeks.org/python-sort-python-dictionaries-by-key-or-value/\n",
        "#   https://www.geeksforgeeks.org/python-sort-dictionary-by-values-and-keys/\n",
        "#   https://www.geeksforgeeks.org/python-get-the-first-key-in-dictionary/\n",
        "\n",
        "#   SOLUTION:\n",
        "    # First way:\n",
        "    sorted_list = sorted(d.items(), key=lambda kv:(-kv[1], kv[0]))\n",
        "    return sorted_list[0][0]\n",
        "\n",
        "    # Second way:\n",
        "    #sorted_dict = {val[0] : val[1] for val in sorted(d.items(), key = lambda x: (-x[1], x[0]))}\n",
        "    #list_of_keys = list(sorted_dict.keys())\n",
        "    #return list_of_keys[0]\n"
      ]
    },
    {
      "cell_type": "code",
      "execution_count": 6,
      "metadata": {
        "nbgrader": {
          "grade": true,
          "grade_id": "highest_freq_letter",
          "locked": true,
          "points": "4",
          "solution": false
        },
        "scrolled": true,
        "id": "-CJXbxUsali8",
        "outputId": "1246ac4f-a41c-4567-86d5-2db7f0f18c96",
        "colab": {
          "base_uri": "https://localhost:8080/"
        }
      },
      "outputs": [
        {
          "output_type": "stream",
          "name": "stdout",
          "text": [
            "Input Dictionary:  {'a': 1, 'b': 8, 'c': 8, 'd': 5, 'e': 2, 'f': 1, 'g': 2, 'h': 7, 'i': 5, 'j': 6, 'k': 2, 'l': 3, 'm': 1, 'n': 9, 'o': 7, 'p': 6, 'q': 11, 'r': 6, 's': 11, 't': 8, 'u': 1, 'v': 9, 'w': 5, 'x': 0, 'y': 2, 'z': 3}\n",
            "Your function correctly returned most frequent letter: q \n",
            "\n",
            "Input Dictionary:  {'a': 5, 'b': 2, 'c': 0, 'd': 7, 'e': 7, 'f': 7, 'g': 7, 'h': 2, 'i': 6, 'j': 8, 'k': 8, 'l': 5, 'm': 4, 'n': 8, 'o': 10, 'p': 8, 'q': 6, 'r': 5, 's': 5, 't': 0, 'u': 9, 'v': 0, 'w': 3, 'x': 0, 'y': 5, 'z': 10}\n",
            "Your function correctly returned most frequent letter: o \n",
            "\n",
            "Input Dictionary:  {'a': 2, 'b': 12, 'c': 4, 'd': 11, 'e': 1, 'f': 3, 'g': 10, 'h': 2, 'i': 7, 'j': 11, 'k': 6, 'l': 1, 'm': 5, 'n': 10, 'o': 7, 'p': 10, 'q': 2, 'r': 12, 's': 2, 't': 13, 'u': 6, 'v': 15, 'w': 15, 'x': 10, 'y': 11, 'z': 5}\n",
            "Your function correctly returned most frequent letter: v \n",
            "\n",
            "\n",
            "(Passed)!\n"
          ]
        }
      ],
      "source": [
        "# Test cell: highest_freq_letter\n",
        "\n",
        "def create_random_dict():\n",
        "    max_char_value = random.randint(5, 20)\n",
        "    random_dict = {c:random.randint(0,max_char_value-1) for c in string.ascii_lowercase}\n",
        "    random_letter1, random_letter2 = random.sample(string.ascii_lowercase, 2)\n",
        "    random_dict[random_letter1], random_dict[random_letter2] = max_char_value, max_char_value\n",
        "    if(random_letter1 < random_letter2):\n",
        "        return random_letter1, random_dict\n",
        "    else:\n",
        "        return random_letter2, random_dict\n",
        "\n",
        "def check_top_letter():\n",
        "    top_letter, random_dict = create_random_dict()\n",
        "    user_letter = find_top_letter(random_dict)\n",
        "    assert user_letter == top_letter\n",
        "    print(\"Input Dictionary: \", random_dict)\n",
        "    print(\"Your function correctly returned most frequent letter: {} \\n\".format(user_letter))\n",
        "\n",
        "check_top_letter()\n",
        "check_top_letter()\n",
        "check_top_letter()\n",
        "print(\"\\n(Passed)!\")"
      ]
    },
    {
      "cell_type": "markdown",
      "metadata": {
        "id": "9NHS0TKsali8"
      },
      "source": [
        "**Fin!** You've reached the end of this problem. Don't forget to restart the kernel and run the entire notebook from top-to-bottom to make sure you did everything correctly. If that is working, try submitting this problem. (Recall that you *must* submit and pass the autograder to get credit for your work!)"
      ]
    }
  ],
  "metadata": {
    "kernelspec": {
      "display_name": "Python 3 (ipykernel)",
      "language": "python",
      "name": "python3"
    },
    "language_info": {
      "codemirror_mode": {
        "name": "ipython",
        "version": 3
      },
      "file_extension": ".py",
      "mimetype": "text/x-python",
      "name": "python",
      "nbconvert_exporter": "python",
      "pygments_lexer": "ipython3",
      "version": "3.9.13"
    },
    "colab": {
      "provenance": [],
      "include_colab_link": true
    }
  },
  "nbformat": 4,
  "nbformat_minor": 0
}